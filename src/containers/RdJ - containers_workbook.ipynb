{
 "cells": [
  {
   "cell_type": "code",
   "execution_count": 65,
   "id": "3c836e12",
   "metadata": {
    "scrolled": false
   },
   "outputs": [],
   "source": [
    "import pandas as pd\n",
    "import numpy as np\n",
    "import os\n",
    "from src.containers import scale_by_scale_optim\n",
    "from src.containers import scale_fitter_no_grid\n",
    "from src.containers import utils\n",
    "from src.containers import generate\n",
    "from humobi.structures.trajectory import TrajectoriesFrame\n",
    "import matplotlib.pyplot as plt\n",
    "import seaborn as sns\n",
    "sns.set()\n",
    "sns.set_style(\"whitegrid\")\n",
    "from collections import defaultdict\n",
    "import folium\n",
    "from humobi.measures.individual import *\n"
   ]
  },
  {
   "cell_type": "code",
   "execution_count": 66,
   "id": "07e3810c",
   "metadata": {},
   "outputs": [],
   "source": [
    "import pandas as pd\n",
    "from humobi.structures.trajectory import TrajectoriesFrame\n",
    "from humobi.preprocessing.filters import fill_gaps\n",
    "import concurrent.futures as cf\n",
    "from tqdm import tqdm\n",
    "\n",
    "\n",
    "class TemporalAggregator():\n",
    "\t\"\"\"\n",
    "\tA class for temporal aggregation of TrajectoriesFrame. It aggregates each users' trajectory separately and returns\n",
    "\tsingle TrajectoriesFrame.\n",
    "\t\"\"\"\n",
    "\n",
    "\tdef __init__(self, resolution):\n",
    "\t\t\"\"\"\n",
    "\t\tClass initialisation\n",
    "\n",
    "\t\tArgs:\n",
    "\t\t\tresolution: resolution to which data will be aggregated\n",
    "\t\t\"\"\"\n",
    "\t\tself._resolution = resolution\n",
    "\n",
    "\t@property\n",
    "\tdef resolution(self):\n",
    "\t\treturn self._resolution\n",
    "\n",
    "\tdef _user_aggregate(self, uid, single_user):\n",
    "\t\t\"\"\"\n",
    "\t\tSingle trajectory aggregation.  For each time frame the longest visited location is selected.\n",
    "\n",
    "\t\tArgs:\n",
    "\t\t\tuid: user's identifier\n",
    "\t\t\tsingle_user: user's trajectory\n",
    "\n",
    "\t\tReturns:\n",
    "\t\t\tAn aggregated trajectory\n",
    "\t\t\"\"\"\n",
    "\t\tsingle_user['temp'] = range(len(single_user))\n",
    "\t\tdf_time = (single_user[['temp', 'start', 'end']].set_index('temp').stack().reset_index(level=-1, drop=True).rename('time').to_frame())\n",
    "\t\tdf_time['time'] = pd.to_datetime(df_time['time'])\n",
    "\t\tdf_time = (df_time.groupby('temp').apply(lambda x: x.set_index('time').resample(self.resolution).asfreq()).reset_index())\n",
    "\t\tdf_time = df_time.merge(single_user[single_user.columns.values])\n",
    "\t\tdf_time['start'] = pd.to_datetime(df_time['start'])\n",
    "\t\tdf_time['end'] = pd.to_datetime(df_time['end'])\n",
    "\t\tdf_time = df_time.set_index('time')\n",
    "\t\tgrouped = df_time.resample(self.resolution)\n",
    "\t\tfor_concat = []\n",
    "\t\ttdelta = pd.Timedelta(self.resolution)\n",
    "\t\tfor time_bin, data_bin in grouped:\n",
    "\t\t\tif len(data_bin) > 1:\n",
    "\t\t\t\tstart = data_bin.index.min()\n",
    "\t\t\t\tend = start + tdelta\n",
    "\t\t\t\tlongest_stay = data_bin.groupby('temp').apply(\n",
    "\t\t\t\t\tlambda x: x['end'] - x['start'] if ((x['end'] < end).all() and (x['start'] > start).all()).all() else end - x[\n",
    "\t\t\t\t\t\t'start'] if (x['end'] > end).all() else x['start'] - start).idxmax()[0]\n",
    "\t\t\t\tselected = data_bin[data_bin['temp'] == longest_stay]\n",
    "\t\t\telse:\n",
    "\t\t\t\tselected = data_bin\n",
    "\t\t\tfor_concat.append(selected)\n",
    "\t\tdf_time = pd.concat(for_concat)\n",
    "\t\tdf_time = pd.concat({uid: df_time})\n",
    "\t\treturn df_time\n",
    "\n",
    "\tdef aggregate(self, trajectories_frame, fill_method = None, drop_empty = False, parallel = True):\n",
    "\t\t\"\"\"\n",
    "\t\tAggregates TrajectoriesFrame temporally to given temporal resolution.\n",
    "\t\tFor each time frame the longest visited location is selected.\n",
    "\n",
    "\t\tArgs:\n",
    "\t\t\ttrajectories_frame: TrajectoriesFrame class object\n",
    "\t\t\tfill_method: Empty records filling method, if 'None' then data is not filled in. Any other value causes use of forward fill.\n",
    "\t\t\tdrop_empty (default = False): Determines if empty records should be removed.\n",
    "\t\t\tparallel (default = True): Determines if parallel computing should be used.\n",
    "\n",
    "\t\tReturns:\n",
    "\t\t\tA temporally aggregated TrajectoriesFrame object\n",
    "\t\t\"\"\"\n",
    "\t\ttrajectories_frame_grouped = trajectories_frame.groupby(level=0)\n",
    "\t\tfor_concat = []\n",
    "\t\tif parallel:\n",
    "\t\t\twith cf.ThreadPoolExecutor() as executor:\n",
    "\t\t\t\tindis = [indi for indi, val in trajectories_frame_grouped]\n",
    "\t\t\t\tvals = [val for indi, val in trajectories_frame_grouped]\n",
    "\t\t\t\tresults = list(tqdm(executor.map(self._user_aggregate, indis, vals), total=len(trajectories_frame_grouped)))\n",
    "\t\t\tfor result in results:\n",
    "\t\t\t\tfor_concat.append(result)\n",
    "\t\telse:\n",
    "\t\t\tfor uid, user_data in trajectories_frame_grouped:\n",
    "\t\t\t\tif not (user_data['lat'].isna()).all():\n",
    "\t\t\t\t\tsingle_user_aggregated = self._user_aggregate(uid, user_data)\n",
    "\t\t\t\t\tfor_concat.append(single_user_aggregated)\n",
    "\t\ttrajectories_frame = pd.concat(for_concat).groupby(level=0).apply(lambda x: x.groupby(pd.Grouper(level=1,freq=self.resolution)).agg('first'))\n",
    "\t\tif fill_method is not None:\n",
    "\t\t\ttrajectories_frame = fill_gaps(trajectories_frame, fill_method)\n",
    "\t\t\ttrajectories_frame = fill_gaps(trajectories_frame,'bfill')\n",
    "\t\ttrajectories_frame = trajectories_frame.drop('geometry', axis=1)\n",
    "\t\tif drop_empty:\n",
    "\t\t\ttrajectories_frame = trajectories_frame[~trajectories_frame['lat'].isna()]\n",
    "\n",
    "\t\ttrajectories_frame = TrajectoriesFrame(trajectories_frame)\n",
    "\t\treturn trajectories_frame"
   ]
  },
  {
   "cell_type": "code",
   "execution_count": 67,
   "id": "299e8efb",
   "metadata": {},
   "outputs": [],
   "source": [
    "path = r'/home/dteodorczyk/Desktop/boars_repo/Boars_Project/test_data/compressed/compressed_Trajectory_processed_Elephants_Kruger_2007.csv'"
   ]
  },
  {
   "cell_type": "code",
   "execution_count": 68,
   "id": "ca41e4c4",
   "metadata": {},
   "outputs": [
    {
     "name": "stderr",
     "output_type": "stream",
     "text": [
      "/home/dteodorczyk/.conda/envs/boars3109/lib/python3.10/site-packages/geopandas/geodataframe.py:205: UserWarning: Pandas doesn't allow columns to be created via a new attribute name - see https://pandas.pydata.org/pandas-docs/stable/indexing.html#attribute-access\n",
      "  super().__setattr__(attr, val)\n"
     ]
    }
   ],
   "source": [
    "df = TrajectoriesFrame(path,{'usecols':['user_id','lat','lon','labels','start','end'],\n",
    "                             'crs':4326, 'nrows': 10_000})"
   ]
  },
  {
   "cell_type": "code",
   "execution_count": 69,
   "id": "11ba5bc8",
   "metadata": {},
   "outputs": [
    {
     "data": {
      "text/plain": [
       "user_id\n",
       "6     47\n",
       "7     55\n",
       "0     60\n",
       "1     62\n",
       "12    63\n",
       "4     64\n",
       "8     66\n",
       "13    67\n",
       "11    67\n",
       "9     80\n",
       "5     86\n",
       "3     92\n",
       "10    92\n",
       "2     93\n",
       "dtype: int64"
      ]
     },
     "execution_count": 69,
     "metadata": {},
     "output_type": "execute_result"
    }
   ],
   "source": [
    "df.groupby(level=0).size().sort_values()"
   ]
  },
  {
   "cell_type": "code",
   "execution_count": 70,
   "id": "6ef2c644",
   "metadata": {},
   "outputs": [
    {
     "data": {
      "text/plain": [
       "array([ 0,  1,  2,  3,  4,  5,  6,  7,  8,  9, 10, 11, 12, 13])"
      ]
     },
     "execution_count": 70,
     "metadata": {},
     "output_type": "execute_result"
    }
   ],
   "source": [
    "df.get_users()"
   ]
  },
  {
   "cell_type": "code",
   "execution_count": 71,
   "id": "d4bcbf48",
   "metadata": {},
   "outputs": [
    {
     "name": "stderr",
     "output_type": "stream",
     "text": [
      "/home/dteodorczyk/.conda/envs/boars3109/lib/python3.10/site-packages/geopandas/geodataframe.py:205: UserWarning: Pandas doesn't allow columns to be created via a new attribute name - see https://pandas.pydata.org/pandas-docs/stable/indexing.html#attribute-access\n",
      "  super().__setattr__(attr, val)\n"
     ]
    }
   ],
   "source": [
    "df = df.reset_index()\n",
    "df['end'] = df['datetime']\n",
    "df = TrajectoriesFrame(df)"
   ]
  },
  {
   "cell_type": "code",
   "execution_count": 72,
   "id": "5f4c45eb",
   "metadata": {},
   "outputs": [
    {
     "data": {
      "text/html": [
       "<div>\n",
       "<style scoped>\n",
       "    .dataframe tbody tr th:only-of-type {\n",
       "        vertical-align: middle;\n",
       "    }\n",
       "\n",
       "    .dataframe tbody tr th {\n",
       "        vertical-align: top;\n",
       "    }\n",
       "\n",
       "    .dataframe thead th {\n",
       "        text-align: right;\n",
       "    }\n",
       "</style>\n",
       "<table border=\"1\" class=\"dataframe\">\n",
       "  <thead>\n",
       "    <tr style=\"text-align: right;\">\n",
       "      <th></th>\n",
       "      <th></th>\n",
       "      <th>labels</th>\n",
       "      <th>lat</th>\n",
       "      <th>lon</th>\n",
       "      <th>start</th>\n",
       "      <th>geometry</th>\n",
       "      <th>end</th>\n",
       "    </tr>\n",
       "    <tr>\n",
       "      <th>user_id</th>\n",
       "      <th>datetime</th>\n",
       "      <th></th>\n",
       "      <th></th>\n",
       "      <th></th>\n",
       "      <th></th>\n",
       "      <th></th>\n",
       "      <th></th>\n",
       "    </tr>\n",
       "  </thead>\n",
       "  <tbody>\n",
       "    <tr>\n",
       "      <th rowspan=\"5\" valign=\"top\">0</th>\n",
       "      <th>2008-12-23 14:30:00</th>\n",
       "      <td>23.0</td>\n",
       "      <td>-25.098564</td>\n",
       "      <td>31.890176</td>\n",
       "      <td>2008-12-23 10:30:00</td>\n",
       "      <td>POINT (31.89018 -25.09856)</td>\n",
       "      <td>2008-12-23 14:30:00</td>\n",
       "    </tr>\n",
       "    <tr>\n",
       "      <th>2008-12-24 04:30:00</th>\n",
       "      <td>21.0</td>\n",
       "      <td>-25.126963</td>\n",
       "      <td>31.894877</td>\n",
       "      <td>2008-12-23 17:30:00</td>\n",
       "      <td>POINT (31.89488 -25.12696)</td>\n",
       "      <td>2008-12-24 04:30:00</td>\n",
       "    </tr>\n",
       "    <tr>\n",
       "      <th>2008-12-25 02:30:00</th>\n",
       "      <td>24.0</td>\n",
       "      <td>-25.039097</td>\n",
       "      <td>31.888347</td>\n",
       "      <td>2008-12-24 17:30:00</td>\n",
       "      <td>POINT (31.88835 -25.03910)</td>\n",
       "      <td>2008-12-25 02:30:00</td>\n",
       "    </tr>\n",
       "    <tr>\n",
       "      <th>2008-12-27 02:30:00</th>\n",
       "      <td>18.0</td>\n",
       "      <td>-25.166329</td>\n",
       "      <td>31.908769</td>\n",
       "      <td>2008-12-26 16:30:00</td>\n",
       "      <td>POINT (31.90877 -25.16633)</td>\n",
       "      <td>2008-12-27 02:30:00</td>\n",
       "    </tr>\n",
       "    <tr>\n",
       "      <th>2008-12-27 19:30:00</th>\n",
       "      <td>17.0</td>\n",
       "      <td>-25.223642</td>\n",
       "      <td>31.947985</td>\n",
       "      <td>2008-12-27 17:00:00</td>\n",
       "      <td>POINT (31.94799 -25.22364)</td>\n",
       "      <td>2008-12-27 19:30:00</td>\n",
       "    </tr>\n",
       "    <tr>\n",
       "      <th>...</th>\n",
       "      <th>...</th>\n",
       "      <td>...</td>\n",
       "      <td>...</td>\n",
       "      <td>...</td>\n",
       "      <td>...</td>\n",
       "      <td>...</td>\n",
       "      <td>...</td>\n",
       "    </tr>\n",
       "    <tr>\n",
       "      <th rowspan=\"5\" valign=\"top\">13</th>\n",
       "      <th>2008-10-16 05:00:00</th>\n",
       "      <td>20.0</td>\n",
       "      <td>-24.253659</td>\n",
       "      <td>31.683875</td>\n",
       "      <td>2008-10-15 20:30:00</td>\n",
       "      <td>POINT (31.68387 -24.25366)</td>\n",
       "      <td>2008-10-16 05:00:00</td>\n",
       "    </tr>\n",
       "    <tr>\n",
       "      <th>2008-10-16 08:30:00</th>\n",
       "      <td>21.0</td>\n",
       "      <td>-24.248777</td>\n",
       "      <td>31.687166</td>\n",
       "      <td>2008-10-16 05:30:00</td>\n",
       "      <td>POINT (31.68717 -24.24878)</td>\n",
       "      <td>2008-10-16 08:30:00</td>\n",
       "    </tr>\n",
       "    <tr>\n",
       "      <th>2008-10-16 12:30:00</th>\n",
       "      <td>9.0</td>\n",
       "      <td>-24.245499</td>\n",
       "      <td>31.678886</td>\n",
       "      <td>2008-10-16 09:00:00</td>\n",
       "      <td>POINT (31.67889 -24.24550)</td>\n",
       "      <td>2008-10-16 12:30:00</td>\n",
       "    </tr>\n",
       "    <tr>\n",
       "      <th>2008-10-16 15:30:00</th>\n",
       "      <td>10.0</td>\n",
       "      <td>-24.237043</td>\n",
       "      <td>31.677409</td>\n",
       "      <td>2008-10-16 13:00:00</td>\n",
       "      <td>POINT (31.67741 -24.23704)</td>\n",
       "      <td>2008-10-16 15:30:00</td>\n",
       "    </tr>\n",
       "    <tr>\n",
       "      <th>2008-10-17 00:00:00</th>\n",
       "      <td>1.0</td>\n",
       "      <td>-24.222930</td>\n",
       "      <td>31.677419</td>\n",
       "      <td>2008-10-16 16:00:00</td>\n",
       "      <td>POINT (31.67742 -24.22293)</td>\n",
       "      <td>2008-10-17 00:00:00</td>\n",
       "    </tr>\n",
       "  </tbody>\n",
       "</table>\n",
       "<p>994 rows × 6 columns</p>\n",
       "</div>"
      ],
      "text/plain": [
       "                             labels        lat        lon  \\\n",
       "user_id datetime                                            \n",
       "0       2008-12-23 14:30:00    23.0 -25.098564  31.890176   \n",
       "        2008-12-24 04:30:00    21.0 -25.126963  31.894877   \n",
       "        2008-12-25 02:30:00    24.0 -25.039097  31.888347   \n",
       "        2008-12-27 02:30:00    18.0 -25.166329  31.908769   \n",
       "        2008-12-27 19:30:00    17.0 -25.223642  31.947985   \n",
       "...                             ...        ...        ...   \n",
       "13      2008-10-16 05:00:00    20.0 -24.253659  31.683875   \n",
       "        2008-10-16 08:30:00    21.0 -24.248777  31.687166   \n",
       "        2008-10-16 12:30:00     9.0 -24.245499  31.678886   \n",
       "        2008-10-16 15:30:00    10.0 -24.237043  31.677409   \n",
       "        2008-10-17 00:00:00     1.0 -24.222930  31.677419   \n",
       "\n",
       "                                           start                    geometry  \\\n",
       "user_id datetime                                                               \n",
       "0       2008-12-23 14:30:00  2008-12-23 10:30:00  POINT (31.89018 -25.09856)   \n",
       "        2008-12-24 04:30:00  2008-12-23 17:30:00  POINT (31.89488 -25.12696)   \n",
       "        2008-12-25 02:30:00  2008-12-24 17:30:00  POINT (31.88835 -25.03910)   \n",
       "        2008-12-27 02:30:00  2008-12-26 16:30:00  POINT (31.90877 -25.16633)   \n",
       "        2008-12-27 19:30:00  2008-12-27 17:00:00  POINT (31.94799 -25.22364)   \n",
       "...                                          ...                         ...   \n",
       "13      2008-10-16 05:00:00  2008-10-15 20:30:00  POINT (31.68387 -24.25366)   \n",
       "        2008-10-16 08:30:00  2008-10-16 05:30:00  POINT (31.68717 -24.24878)   \n",
       "        2008-10-16 12:30:00  2008-10-16 09:00:00  POINT (31.67889 -24.24550)   \n",
       "        2008-10-16 15:30:00  2008-10-16 13:00:00  POINT (31.67741 -24.23704)   \n",
       "        2008-10-17 00:00:00  2008-10-16 16:00:00  POINT (31.67742 -24.22293)   \n",
       "\n",
       "                                            end  \n",
       "user_id datetime                                 \n",
       "0       2008-12-23 14:30:00 2008-12-23 14:30:00  \n",
       "        2008-12-24 04:30:00 2008-12-24 04:30:00  \n",
       "        2008-12-25 02:30:00 2008-12-25 02:30:00  \n",
       "        2008-12-27 02:30:00 2008-12-27 02:30:00  \n",
       "        2008-12-27 19:30:00 2008-12-27 19:30:00  \n",
       "...                                         ...  \n",
       "13      2008-10-16 05:00:00 2008-10-16 05:00:00  \n",
       "        2008-10-16 08:30:00 2008-10-16 08:30:00  \n",
       "        2008-10-16 12:30:00 2008-10-16 12:30:00  \n",
       "        2008-10-16 15:30:00 2008-10-16 15:30:00  \n",
       "        2008-10-17 00:00:00 2008-10-17 00:00:00  \n",
       "\n",
       "[994 rows x 6 columns]"
      ]
     },
     "execution_count": 72,
     "metadata": {},
     "output_type": "execute_result"
    }
   ],
   "source": [
    "df"
   ]
  },
  {
   "cell_type": "code",
   "execution_count": 73,
   "id": "c12326a6",
   "metadata": {},
   "outputs": [],
   "source": [
    "df.start = pd.to_datetime(df.start)\n",
    "df.end = pd.to_datetime(df.end)"
   ]
  },
  {
   "cell_type": "code",
   "execution_count": 74,
   "id": "e96f8d46",
   "metadata": {},
   "outputs": [
    {
     "name": "stdout",
     "output_type": "stream",
     "text": [
      "Found 2 scales\n"
     ]
    }
   ],
   "source": [
    "oneuser = df.loc[0].copy()\n",
    "oneuser = oneuser[oneuser.labels!=oneuser.labels.shift()] #Note that this is not necessary\n",
    "locs = set(oneuser.labels)\n",
    "oneuser['labels'] = oneuser['labels'].map(dict(zip(locs,range(len(locs))))) #tworzy unikalne wartosci labeli w oneuser\n",
    "\n",
    "#Find stops positions\n",
    "stop_locations = oneuser.groupby('labels')[['lat','lon']].median().sort_index().values\n",
    "labels = oneuser['labels'].values.astype(int)\n",
    "\n",
    "#Run maximum likelihood optimization\n",
    "optim_instance = scale_by_scale_optim.ScalesOptim(labels,\n",
    "                                                  stop_locations,\n",
    "                                                  bootstrap = True,\n",
    "                                                  min_dist=1.2,\n",
    "                                                  siglvl=0.4, verbose=False,\n",
    "                                                 information_criterion='AIC')\n",
    "final_series, _, likelihoods, _, final_sizes, _, _ = optim_instance.find_best_scale()"
   ]
  },
  {
   "cell_type": "code",
   "execution_count": 75,
   "id": "c1958de9",
   "metadata": {},
   "outputs": [
    {
     "data": {
      "text/plain": [
       "[[7, 22],\n",
       " [7, 20],\n",
       " [2, 23],\n",
       " [6, 17],\n",
       " [8, 16],\n",
       " [3, 5],\n",
       " [5, 21],\n",
       " [5, 10],\n",
       " [1, 11],\n",
       " [1, 15],\n",
       " [1, 11],\n",
       " [5, 1],\n",
       " [5, 10],\n",
       " [5, 21],\n",
       " [5, 10],\n",
       " [5, 1],\n",
       " [7, 3],\n",
       " [7, 0],\n",
       " [7, 2],\n",
       " [7, 3],\n",
       " [7, 2],\n",
       " [7, 12],\n",
       " [7, 2],\n",
       " [7, 12],\n",
       " [7, 2],\n",
       " [7, 0],\n",
       " [7, 2],\n",
       " [4, 9],\n",
       " [4, 6],\n",
       " [7, 3],\n",
       " [4, 6],\n",
       " [3, 13],\n",
       " [3, 4],\n",
       " [3, 7],\n",
       " [3, 19],\n",
       " [3, 8],\n",
       " [3, 14],\n",
       " [3, 8],\n",
       " [3, 4],\n",
       " [3, 7],\n",
       " [3, 5],\n",
       " [3, 19],\n",
       " [3, 4],\n",
       " [3, 13],\n",
       " [3, 5],\n",
       " [3, 7],\n",
       " [3, 4],\n",
       " [3, 14],\n",
       " [3, 8],\n",
       " [3, 7],\n",
       " [6, 18],\n",
       " [7, 0],\n",
       " [7, 3],\n",
       " [7, 12],\n",
       " [7, 2],\n",
       " [4, 9],\n",
       " [7, 0],\n",
       " [4, 9],\n",
       " [5, 1],\n",
       " [1, 15]]"
      ]
     },
     "execution_count": 75,
     "metadata": {},
     "output_type": "execute_result"
    }
   ],
   "source": [
    "final_series"
   ]
  },
  {
   "cell_type": "code",
   "execution_count": 76,
   "id": "473b352a",
   "metadata": {},
   "outputs": [
    {
     "data": {
      "text/html": [
       "<div>\n",
       "<style scoped>\n",
       "    .dataframe tbody tr th:only-of-type {\n",
       "        vertical-align: middle;\n",
       "    }\n",
       "\n",
       "    .dataframe tbody tr th {\n",
       "        vertical-align: top;\n",
       "    }\n",
       "\n",
       "    .dataframe thead th {\n",
       "        text-align: right;\n",
       "    }\n",
       "</style>\n",
       "<table border=\"1\" class=\"dataframe\">\n",
       "  <thead>\n",
       "    <tr style=\"text-align: right;\">\n",
       "      <th></th>\n",
       "      <th>labels</th>\n",
       "      <th>lat</th>\n",
       "      <th>lon</th>\n",
       "      <th>start</th>\n",
       "      <th>geometry</th>\n",
       "      <th>end</th>\n",
       "    </tr>\n",
       "    <tr>\n",
       "      <th>datetime</th>\n",
       "      <th></th>\n",
       "      <th></th>\n",
       "      <th></th>\n",
       "      <th></th>\n",
       "      <th></th>\n",
       "      <th></th>\n",
       "    </tr>\n",
       "  </thead>\n",
       "  <tbody>\n",
       "    <tr>\n",
       "      <th>2008-12-23 14:30:00</th>\n",
       "      <td>22</td>\n",
       "      <td>-25.098564</td>\n",
       "      <td>31.890176</td>\n",
       "      <td>2008-12-23 10:30:00</td>\n",
       "      <td>POINT (31.89018 -25.09856)</td>\n",
       "      <td>2008-12-23 14:30:00</td>\n",
       "    </tr>\n",
       "    <tr>\n",
       "      <th>2008-12-24 04:30:00</th>\n",
       "      <td>20</td>\n",
       "      <td>-25.126963</td>\n",
       "      <td>31.894877</td>\n",
       "      <td>2008-12-23 17:30:00</td>\n",
       "      <td>POINT (31.89488 -25.12696)</td>\n",
       "      <td>2008-12-24 04:30:00</td>\n",
       "    </tr>\n",
       "    <tr>\n",
       "      <th>2008-12-25 02:30:00</th>\n",
       "      <td>23</td>\n",
       "      <td>-25.039097</td>\n",
       "      <td>31.888347</td>\n",
       "      <td>2008-12-24 17:30:00</td>\n",
       "      <td>POINT (31.88835 -25.03910)</td>\n",
       "      <td>2008-12-25 02:30:00</td>\n",
       "    </tr>\n",
       "    <tr>\n",
       "      <th>2008-12-27 02:30:00</th>\n",
       "      <td>17</td>\n",
       "      <td>-25.166329</td>\n",
       "      <td>31.908769</td>\n",
       "      <td>2008-12-26 16:30:00</td>\n",
       "      <td>POINT (31.90877 -25.16633)</td>\n",
       "      <td>2008-12-27 02:30:00</td>\n",
       "    </tr>\n",
       "    <tr>\n",
       "      <th>2008-12-27 19:30:00</th>\n",
       "      <td>16</td>\n",
       "      <td>-25.223642</td>\n",
       "      <td>31.947985</td>\n",
       "      <td>2008-12-27 17:00:00</td>\n",
       "      <td>POINT (31.94799 -25.22364)</td>\n",
       "      <td>2008-12-27 19:30:00</td>\n",
       "    </tr>\n",
       "    <tr>\n",
       "      <th>2008-12-29 03:30:00</th>\n",
       "      <td>5</td>\n",
       "      <td>-25.118621</td>\n",
       "      <td>31.964323</td>\n",
       "      <td>2008-12-28 16:00:00</td>\n",
       "      <td>POINT (31.96432 -25.11862)</td>\n",
       "      <td>2008-12-29 03:30:00</td>\n",
       "    </tr>\n",
       "    <tr>\n",
       "      <th>2008-12-29 06:30:00</th>\n",
       "      <td>21</td>\n",
       "      <td>-25.099478</td>\n",
       "      <td>31.960548</td>\n",
       "      <td>2008-12-29 05:30:00</td>\n",
       "      <td>POINT (31.96055 -25.09948)</td>\n",
       "      <td>2008-12-29 06:30:00</td>\n",
       "    </tr>\n",
       "    <tr>\n",
       "      <th>2008-12-29 08:30:00</th>\n",
       "      <td>10</td>\n",
       "      <td>-25.093760</td>\n",
       "      <td>31.953178</td>\n",
       "      <td>2008-12-29 07:00:00</td>\n",
       "      <td>POINT (31.95318 -25.09376)</td>\n",
       "      <td>2008-12-29 08:30:00</td>\n",
       "    </tr>\n",
       "    <tr>\n",
       "      <th>2008-12-29 14:00:00</th>\n",
       "      <td>11</td>\n",
       "      <td>-25.061384</td>\n",
       "      <td>31.953184</td>\n",
       "      <td>2008-12-29 11:30:00</td>\n",
       "      <td>POINT (31.95318 -25.06138)</td>\n",
       "      <td>2008-12-29 14:00:00</td>\n",
       "    </tr>\n",
       "    <tr>\n",
       "      <th>2008-12-29 19:00:00</th>\n",
       "      <td>15</td>\n",
       "      <td>-25.044797</td>\n",
       "      <td>31.956674</td>\n",
       "      <td>2008-12-29 16:00:00</td>\n",
       "      <td>POINT (31.95667 -25.04480)</td>\n",
       "      <td>2008-12-29 19:00:00</td>\n",
       "    </tr>\n",
       "    <tr>\n",
       "      <th>2008-12-30 03:00:00</th>\n",
       "      <td>11</td>\n",
       "      <td>-25.061384</td>\n",
       "      <td>31.953184</td>\n",
       "      <td>2008-12-30 02:30:00</td>\n",
       "      <td>POINT (31.95318 -25.06138)</td>\n",
       "      <td>2008-12-30 03:00:00</td>\n",
       "    </tr>\n",
       "    <tr>\n",
       "      <th>2008-12-30 11:00:00</th>\n",
       "      <td>1</td>\n",
       "      <td>-25.082985</td>\n",
       "      <td>31.947616</td>\n",
       "      <td>2008-12-30 06:00:00</td>\n",
       "      <td>POINT (31.94762 -25.08298)</td>\n",
       "      <td>2008-12-30 11:00:00</td>\n",
       "    </tr>\n",
       "    <tr>\n",
       "      <th>2008-12-31 02:30:00</th>\n",
       "      <td>10</td>\n",
       "      <td>-25.093760</td>\n",
       "      <td>31.953178</td>\n",
       "      <td>2008-12-30 17:30:00</td>\n",
       "      <td>POINT (31.95318 -25.09376)</td>\n",
       "      <td>2008-12-31 02:30:00</td>\n",
       "    </tr>\n",
       "    <tr>\n",
       "      <th>2008-12-31 04:00:00</th>\n",
       "      <td>21</td>\n",
       "      <td>-25.099478</td>\n",
       "      <td>31.960548</td>\n",
       "      <td>2008-12-31 03:30:00</td>\n",
       "      <td>POINT (31.96055 -25.09948)</td>\n",
       "      <td>2008-12-31 04:00:00</td>\n",
       "    </tr>\n",
       "    <tr>\n",
       "      <th>2008-12-31 05:30:00</th>\n",
       "      <td>10</td>\n",
       "      <td>-25.093760</td>\n",
       "      <td>31.953178</td>\n",
       "      <td>2008-12-31 05:00:00</td>\n",
       "      <td>POINT (31.95318 -25.09376)</td>\n",
       "      <td>2008-12-31 05:30:00</td>\n",
       "    </tr>\n",
       "    <tr>\n",
       "      <th>2009-01-01 02:31:00</th>\n",
       "      <td>1</td>\n",
       "      <td>-25.082985</td>\n",
       "      <td>31.947616</td>\n",
       "      <td>2008-12-31 07:00:00</td>\n",
       "      <td>POINT (31.94762 -25.08298)</td>\n",
       "      <td>2009-01-01 02:31:00</td>\n",
       "    </tr>\n",
       "    <tr>\n",
       "      <th>2009-01-01 07:00:00</th>\n",
       "      <td>3</td>\n",
       "      <td>-25.106675</td>\n",
       "      <td>31.901583</td>\n",
       "      <td>2009-01-01 06:00:00</td>\n",
       "      <td>POINT (31.90158 -25.10668)</td>\n",
       "      <td>2009-01-01 07:00:00</td>\n",
       "    </tr>\n",
       "    <tr>\n",
       "      <th>2009-01-01 11:30:00</th>\n",
       "      <td>0</td>\n",
       "      <td>-25.114646</td>\n",
       "      <td>31.902996</td>\n",
       "      <td>2009-01-01 08:00:00</td>\n",
       "      <td>POINT (31.90300 -25.11465)</td>\n",
       "      <td>2009-01-01 11:30:00</td>\n",
       "    </tr>\n",
       "    <tr>\n",
       "      <th>2009-01-01 14:30:00</th>\n",
       "      <td>2</td>\n",
       "      <td>-25.107488</td>\n",
       "      <td>31.910591</td>\n",
       "      <td>2009-01-01 14:00:00</td>\n",
       "      <td>POINT (31.91059 -25.10749)</td>\n",
       "      <td>2009-01-01 14:30:00</td>\n",
       "    </tr>\n",
       "    <tr>\n",
       "      <th>2009-01-02 08:30:00</th>\n",
       "      <td>3</td>\n",
       "      <td>-25.106675</td>\n",
       "      <td>31.901583</td>\n",
       "      <td>2009-01-02 05:30:00</td>\n",
       "      <td>POINT (31.90158 -25.10668)</td>\n",
       "      <td>2009-01-02 08:30:00</td>\n",
       "    </tr>\n",
       "    <tr>\n",
       "      <th>2009-01-02 09:30:00</th>\n",
       "      <td>2</td>\n",
       "      <td>-25.107488</td>\n",
       "      <td>31.910591</td>\n",
       "      <td>2009-01-02 09:00:00</td>\n",
       "      <td>POINT (31.91059 -25.10749)</td>\n",
       "      <td>2009-01-02 09:30:00</td>\n",
       "    </tr>\n",
       "    <tr>\n",
       "      <th>2009-01-02 11:30:00</th>\n",
       "      <td>12</td>\n",
       "      <td>-25.103387</td>\n",
       "      <td>31.918092</td>\n",
       "      <td>2009-01-02 10:30:00</td>\n",
       "      <td>POINT (31.91809 -25.10339)</td>\n",
       "      <td>2009-01-02 11:30:00</td>\n",
       "    </tr>\n",
       "    <tr>\n",
       "      <th>2009-01-02 16:00:00</th>\n",
       "      <td>2</td>\n",
       "      <td>-25.107488</td>\n",
       "      <td>31.910591</td>\n",
       "      <td>2009-01-02 15:00:00</td>\n",
       "      <td>POINT (31.91059 -25.10749)</td>\n",
       "      <td>2009-01-02 16:00:00</td>\n",
       "    </tr>\n",
       "    <tr>\n",
       "      <th>2009-01-02 19:00:00</th>\n",
       "      <td>12</td>\n",
       "      <td>-25.103387</td>\n",
       "      <td>31.918092</td>\n",
       "      <td>2009-01-02 17:00:00</td>\n",
       "      <td>POINT (31.91809 -25.10339)</td>\n",
       "      <td>2009-01-02 19:00:00</td>\n",
       "    </tr>\n",
       "    <tr>\n",
       "      <th>2009-01-02 21:00:00</th>\n",
       "      <td>2</td>\n",
       "      <td>-25.107488</td>\n",
       "      <td>31.910591</td>\n",
       "      <td>2009-01-02 19:30:00</td>\n",
       "      <td>POINT (31.91059 -25.10749)</td>\n",
       "      <td>2009-01-02 21:00:00</td>\n",
       "    </tr>\n",
       "    <tr>\n",
       "      <th>2009-01-03 09:00:00</th>\n",
       "      <td>0</td>\n",
       "      <td>-25.114646</td>\n",
       "      <td>31.902996</td>\n",
       "      <td>2009-01-02 21:31:00</td>\n",
       "      <td>POINT (31.90300 -25.11465)</td>\n",
       "      <td>2009-01-03 09:00:00</td>\n",
       "    </tr>\n",
       "    <tr>\n",
       "      <th>2009-01-03 11:31:00</th>\n",
       "      <td>2</td>\n",
       "      <td>-25.107488</td>\n",
       "      <td>31.910591</td>\n",
       "      <td>2009-01-03 10:00:00</td>\n",
       "      <td>POINT (31.91059 -25.10749)</td>\n",
       "      <td>2009-01-03 11:31:00</td>\n",
       "    </tr>\n",
       "    <tr>\n",
       "      <th>2009-01-03 13:30:00</th>\n",
       "      <td>9</td>\n",
       "      <td>-25.090654</td>\n",
       "      <td>31.925776</td>\n",
       "      <td>2009-01-03 13:00:00</td>\n",
       "      <td>POINT (31.92578 -25.09065)</td>\n",
       "      <td>2009-01-03 13:30:00</td>\n",
       "    </tr>\n",
       "    <tr>\n",
       "      <th>2009-01-03 20:00:00</th>\n",
       "      <td>6</td>\n",
       "      <td>-25.099166</td>\n",
       "      <td>31.937409</td>\n",
       "      <td>2009-01-03 14:30:00</td>\n",
       "      <td>POINT (31.93741 -25.09917)</td>\n",
       "      <td>2009-01-03 20:00:00</td>\n",
       "    </tr>\n",
       "    <tr>\n",
       "      <th>2009-01-04 10:00:00</th>\n",
       "      <td>3</td>\n",
       "      <td>-25.106675</td>\n",
       "      <td>31.901583</td>\n",
       "      <td>2009-01-04 07:00:00</td>\n",
       "      <td>POINT (31.90158 -25.10668)</td>\n",
       "      <td>2009-01-04 10:00:00</td>\n",
       "    </tr>\n",
       "    <tr>\n",
       "      <th>2009-01-04 13:30:00</th>\n",
       "      <td>6</td>\n",
       "      <td>-25.099166</td>\n",
       "      <td>31.937409</td>\n",
       "      <td>2009-01-04 13:00:00</td>\n",
       "      <td>POINT (31.93741 -25.09917)</td>\n",
       "      <td>2009-01-04 13:30:00</td>\n",
       "    </tr>\n",
       "    <tr>\n",
       "      <th>2009-01-05 03:30:00</th>\n",
       "      <td>13</td>\n",
       "      <td>-25.118331</td>\n",
       "      <td>31.937850</td>\n",
       "      <td>2009-01-05 03:00:00</td>\n",
       "      <td>POINT (31.93785 -25.11833)</td>\n",
       "      <td>2009-01-05 03:30:00</td>\n",
       "    </tr>\n",
       "    <tr>\n",
       "      <th>2009-01-05 09:00:00</th>\n",
       "      <td>4</td>\n",
       "      <td>-25.125913</td>\n",
       "      <td>31.931460</td>\n",
       "      <td>2009-01-05 04:30:00</td>\n",
       "      <td>POINT (31.93146 -25.12591)</td>\n",
       "      <td>2009-01-05 09:00:00</td>\n",
       "    </tr>\n",
       "    <tr>\n",
       "      <th>2009-01-05 10:00:00</th>\n",
       "      <td>7</td>\n",
       "      <td>-25.128294</td>\n",
       "      <td>31.942034</td>\n",
       "      <td>2009-01-05 09:30:00</td>\n",
       "      <td>POINT (31.94203 -25.12829)</td>\n",
       "      <td>2009-01-05 10:00:00</td>\n",
       "    </tr>\n",
       "    <tr>\n",
       "      <th>2009-01-05 12:00:00</th>\n",
       "      <td>19</td>\n",
       "      <td>-25.132496</td>\n",
       "      <td>31.955365</td>\n",
       "      <td>2009-01-05 11:30:00</td>\n",
       "      <td>POINT (31.95537 -25.13250)</td>\n",
       "      <td>2009-01-05 12:00:00</td>\n",
       "    </tr>\n",
       "    <tr>\n",
       "      <th>2009-01-05 16:30:00</th>\n",
       "      <td>8</td>\n",
       "      <td>-25.119946</td>\n",
       "      <td>31.949710</td>\n",
       "      <td>2009-01-05 14:30:00</td>\n",
       "      <td>POINT (31.94971 -25.11995)</td>\n",
       "      <td>2009-01-05 16:30:00</td>\n",
       "    </tr>\n",
       "    <tr>\n",
       "      <th>2009-01-05 21:30:00</th>\n",
       "      <td>14</td>\n",
       "      <td>-25.117034</td>\n",
       "      <td>31.955413</td>\n",
       "      <td>2009-01-05 17:00:00</td>\n",
       "      <td>POINT (31.95541 -25.11703)</td>\n",
       "      <td>2009-01-05 21:30:00</td>\n",
       "    </tr>\n",
       "    <tr>\n",
       "      <th>2009-01-06 02:30:00</th>\n",
       "      <td>8</td>\n",
       "      <td>-25.119946</td>\n",
       "      <td>31.949710</td>\n",
       "      <td>2009-01-05 22:00:00</td>\n",
       "      <td>POINT (31.94971 -25.11995)</td>\n",
       "      <td>2009-01-06 02:30:00</td>\n",
       "    </tr>\n",
       "    <tr>\n",
       "      <th>2009-01-06 08:30:00</th>\n",
       "      <td>4</td>\n",
       "      <td>-25.125913</td>\n",
       "      <td>31.931460</td>\n",
       "      <td>2009-01-06 05:30:00</td>\n",
       "      <td>POINT (31.93146 -25.12591)</td>\n",
       "      <td>2009-01-06 08:30:00</td>\n",
       "    </tr>\n",
       "    <tr>\n",
       "      <th>2009-01-06 09:30:00</th>\n",
       "      <td>7</td>\n",
       "      <td>-25.128294</td>\n",
       "      <td>31.942034</td>\n",
       "      <td>2009-01-06 09:00:00</td>\n",
       "      <td>POINT (31.94203 -25.12829)</td>\n",
       "      <td>2009-01-06 09:30:00</td>\n",
       "    </tr>\n",
       "    <tr>\n",
       "      <th>2009-01-06 18:00:00</th>\n",
       "      <td>5</td>\n",
       "      <td>-25.118621</td>\n",
       "      <td>31.964323</td>\n",
       "      <td>2009-01-06 13:00:00</td>\n",
       "      <td>POINT (31.96432 -25.11862)</td>\n",
       "      <td>2009-01-06 18:00:00</td>\n",
       "    </tr>\n",
       "    <tr>\n",
       "      <th>2009-01-07 02:30:00</th>\n",
       "      <td>19</td>\n",
       "      <td>-25.132496</td>\n",
       "      <td>31.955365</td>\n",
       "      <td>2009-01-06 18:30:00</td>\n",
       "      <td>POINT (31.95537 -25.13250)</td>\n",
       "      <td>2009-01-07 02:30:00</td>\n",
       "    </tr>\n",
       "    <tr>\n",
       "      <th>2009-01-07 06:00:00</th>\n",
       "      <td>4</td>\n",
       "      <td>-25.125913</td>\n",
       "      <td>31.931460</td>\n",
       "      <td>2009-01-07 05:00:00</td>\n",
       "      <td>POINT (31.93146 -25.12591)</td>\n",
       "      <td>2009-01-07 06:00:00</td>\n",
       "    </tr>\n",
       "    <tr>\n",
       "      <th>2009-01-07 09:00:00</th>\n",
       "      <td>13</td>\n",
       "      <td>-25.118331</td>\n",
       "      <td>31.937850</td>\n",
       "      <td>2009-01-07 07:00:00</td>\n",
       "      <td>POINT (31.93785 -25.11833)</td>\n",
       "      <td>2009-01-07 09:00:00</td>\n",
       "    </tr>\n",
       "    <tr>\n",
       "      <th>2009-01-07 18:00:00</th>\n",
       "      <td>5</td>\n",
       "      <td>-25.118621</td>\n",
       "      <td>31.964323</td>\n",
       "      <td>2009-01-07 15:00:00</td>\n",
       "      <td>POINT (31.96432 -25.11862)</td>\n",
       "      <td>2009-01-07 18:00:00</td>\n",
       "    </tr>\n",
       "    <tr>\n",
       "      <th>2009-01-07 19:00:00</th>\n",
       "      <td>7</td>\n",
       "      <td>-25.128294</td>\n",
       "      <td>31.942034</td>\n",
       "      <td>2009-01-07 18:30:00</td>\n",
       "      <td>POINT (31.94203 -25.12829)</td>\n",
       "      <td>2009-01-07 19:00:00</td>\n",
       "    </tr>\n",
       "    <tr>\n",
       "      <th>2009-01-08 04:00:00</th>\n",
       "      <td>4</td>\n",
       "      <td>-25.125913</td>\n",
       "      <td>31.931460</td>\n",
       "      <td>2009-01-08 03:30:00</td>\n",
       "      <td>POINT (31.93146 -25.12591)</td>\n",
       "      <td>2009-01-08 04:00:00</td>\n",
       "    </tr>\n",
       "    <tr>\n",
       "      <th>2009-01-08 19:30:00</th>\n",
       "      <td>14</td>\n",
       "      <td>-25.117034</td>\n",
       "      <td>31.955413</td>\n",
       "      <td>2009-01-08 17:00:00</td>\n",
       "      <td>POINT (31.95541 -25.11703)</td>\n",
       "      <td>2009-01-08 19:30:00</td>\n",
       "    </tr>\n",
       "    <tr>\n",
       "      <th>2009-01-08 21:00:00</th>\n",
       "      <td>8</td>\n",
       "      <td>-25.119946</td>\n",
       "      <td>31.949710</td>\n",
       "      <td>2009-01-08 20:30:00</td>\n",
       "      <td>POINT (31.94971 -25.11995)</td>\n",
       "      <td>2009-01-08 21:00:00</td>\n",
       "    </tr>\n",
       "    <tr>\n",
       "      <th>2009-01-09 05:00:00</th>\n",
       "      <td>7</td>\n",
       "      <td>-25.128294</td>\n",
       "      <td>31.942034</td>\n",
       "      <td>2009-01-08 21:30:00</td>\n",
       "      <td>POINT (31.94203 -25.12829)</td>\n",
       "      <td>2009-01-09 05:00:00</td>\n",
       "    </tr>\n",
       "    <tr>\n",
       "      <th>2009-01-09 21:30:00</th>\n",
       "      <td>18</td>\n",
       "      <td>-25.145173</td>\n",
       "      <td>31.908723</td>\n",
       "      <td>2009-01-09 17:00:00</td>\n",
       "      <td>POINT (31.90872 -25.14517)</td>\n",
       "      <td>2009-01-09 21:30:00</td>\n",
       "    </tr>\n",
       "    <tr>\n",
       "      <th>2009-01-10 04:00:00</th>\n",
       "      <td>0</td>\n",
       "      <td>-25.114646</td>\n",
       "      <td>31.902996</td>\n",
       "      <td>2009-01-10 03:30:00</td>\n",
       "      <td>POINT (31.90300 -25.11465)</td>\n",
       "      <td>2009-01-10 04:00:00</td>\n",
       "    </tr>\n",
       "    <tr>\n",
       "      <th>2009-01-10 10:30:00</th>\n",
       "      <td>3</td>\n",
       "      <td>-25.106675</td>\n",
       "      <td>31.901583</td>\n",
       "      <td>2009-01-10 06:00:00</td>\n",
       "      <td>POINT (31.90158 -25.10668)</td>\n",
       "      <td>2009-01-10 10:30:00</td>\n",
       "    </tr>\n",
       "    <tr>\n",
       "      <th>2009-01-10 13:30:00</th>\n",
       "      <td>12</td>\n",
       "      <td>-25.103387</td>\n",
       "      <td>31.918092</td>\n",
       "      <td>2009-01-10 12:00:00</td>\n",
       "      <td>POINT (31.91809 -25.10339)</td>\n",
       "      <td>2009-01-10 13:30:00</td>\n",
       "    </tr>\n",
       "    <tr>\n",
       "      <th>2009-01-10 14:30:00</th>\n",
       "      <td>2</td>\n",
       "      <td>-25.107488</td>\n",
       "      <td>31.910591</td>\n",
       "      <td>2009-01-10 14:00:00</td>\n",
       "      <td>POINT (31.91059 -25.10749)</td>\n",
       "      <td>2009-01-10 14:30:00</td>\n",
       "    </tr>\n",
       "    <tr>\n",
       "      <th>2009-01-11 03:00:00</th>\n",
       "      <td>9</td>\n",
       "      <td>-25.090654</td>\n",
       "      <td>31.925776</td>\n",
       "      <td>2009-01-10 16:30:00</td>\n",
       "      <td>POINT (31.92578 -25.09065)</td>\n",
       "      <td>2009-01-11 03:00:00</td>\n",
       "    </tr>\n",
       "    <tr>\n",
       "      <th>2009-01-11 12:00:00</th>\n",
       "      <td>0</td>\n",
       "      <td>-25.114646</td>\n",
       "      <td>31.902996</td>\n",
       "      <td>2009-01-11 06:30:00</td>\n",
       "      <td>POINT (31.90300 -25.11465)</td>\n",
       "      <td>2009-01-11 12:00:00</td>\n",
       "    </tr>\n",
       "    <tr>\n",
       "      <th>2009-01-12 02:30:00</th>\n",
       "      <td>9</td>\n",
       "      <td>-25.090654</td>\n",
       "      <td>31.925776</td>\n",
       "      <td>2009-01-11 17:00:00</td>\n",
       "      <td>POINT (31.92578 -25.09065)</td>\n",
       "      <td>2009-01-12 02:30:00</td>\n",
       "    </tr>\n",
       "    <tr>\n",
       "      <th>2009-01-12 13:00:00</th>\n",
       "      <td>1</td>\n",
       "      <td>-25.082985</td>\n",
       "      <td>31.947616</td>\n",
       "      <td>2009-01-12 04:30:00</td>\n",
       "      <td>POINT (31.94762 -25.08298)</td>\n",
       "      <td>2009-01-12 13:00:00</td>\n",
       "    </tr>\n",
       "    <tr>\n",
       "      <th>2009-01-12 17:30:00</th>\n",
       "      <td>15</td>\n",
       "      <td>-25.044797</td>\n",
       "      <td>31.956674</td>\n",
       "      <td>2009-01-12 15:30:00</td>\n",
       "      <td>POINT (31.95667 -25.04480)</td>\n",
       "      <td>2009-01-12 17:30:00</td>\n",
       "    </tr>\n",
       "  </tbody>\n",
       "</table>\n",
       "</div>"
      ],
      "text/plain": [
       "                     labels        lat        lon               start  \\\n",
       "datetime                                                                \n",
       "2008-12-23 14:30:00      22 -25.098564  31.890176 2008-12-23 10:30:00   \n",
       "2008-12-24 04:30:00      20 -25.126963  31.894877 2008-12-23 17:30:00   \n",
       "2008-12-25 02:30:00      23 -25.039097  31.888347 2008-12-24 17:30:00   \n",
       "2008-12-27 02:30:00      17 -25.166329  31.908769 2008-12-26 16:30:00   \n",
       "2008-12-27 19:30:00      16 -25.223642  31.947985 2008-12-27 17:00:00   \n",
       "2008-12-29 03:30:00       5 -25.118621  31.964323 2008-12-28 16:00:00   \n",
       "2008-12-29 06:30:00      21 -25.099478  31.960548 2008-12-29 05:30:00   \n",
       "2008-12-29 08:30:00      10 -25.093760  31.953178 2008-12-29 07:00:00   \n",
       "2008-12-29 14:00:00      11 -25.061384  31.953184 2008-12-29 11:30:00   \n",
       "2008-12-29 19:00:00      15 -25.044797  31.956674 2008-12-29 16:00:00   \n",
       "2008-12-30 03:00:00      11 -25.061384  31.953184 2008-12-30 02:30:00   \n",
       "2008-12-30 11:00:00       1 -25.082985  31.947616 2008-12-30 06:00:00   \n",
       "2008-12-31 02:30:00      10 -25.093760  31.953178 2008-12-30 17:30:00   \n",
       "2008-12-31 04:00:00      21 -25.099478  31.960548 2008-12-31 03:30:00   \n",
       "2008-12-31 05:30:00      10 -25.093760  31.953178 2008-12-31 05:00:00   \n",
       "2009-01-01 02:31:00       1 -25.082985  31.947616 2008-12-31 07:00:00   \n",
       "2009-01-01 07:00:00       3 -25.106675  31.901583 2009-01-01 06:00:00   \n",
       "2009-01-01 11:30:00       0 -25.114646  31.902996 2009-01-01 08:00:00   \n",
       "2009-01-01 14:30:00       2 -25.107488  31.910591 2009-01-01 14:00:00   \n",
       "2009-01-02 08:30:00       3 -25.106675  31.901583 2009-01-02 05:30:00   \n",
       "2009-01-02 09:30:00       2 -25.107488  31.910591 2009-01-02 09:00:00   \n",
       "2009-01-02 11:30:00      12 -25.103387  31.918092 2009-01-02 10:30:00   \n",
       "2009-01-02 16:00:00       2 -25.107488  31.910591 2009-01-02 15:00:00   \n",
       "2009-01-02 19:00:00      12 -25.103387  31.918092 2009-01-02 17:00:00   \n",
       "2009-01-02 21:00:00       2 -25.107488  31.910591 2009-01-02 19:30:00   \n",
       "2009-01-03 09:00:00       0 -25.114646  31.902996 2009-01-02 21:31:00   \n",
       "2009-01-03 11:31:00       2 -25.107488  31.910591 2009-01-03 10:00:00   \n",
       "2009-01-03 13:30:00       9 -25.090654  31.925776 2009-01-03 13:00:00   \n",
       "2009-01-03 20:00:00       6 -25.099166  31.937409 2009-01-03 14:30:00   \n",
       "2009-01-04 10:00:00       3 -25.106675  31.901583 2009-01-04 07:00:00   \n",
       "2009-01-04 13:30:00       6 -25.099166  31.937409 2009-01-04 13:00:00   \n",
       "2009-01-05 03:30:00      13 -25.118331  31.937850 2009-01-05 03:00:00   \n",
       "2009-01-05 09:00:00       4 -25.125913  31.931460 2009-01-05 04:30:00   \n",
       "2009-01-05 10:00:00       7 -25.128294  31.942034 2009-01-05 09:30:00   \n",
       "2009-01-05 12:00:00      19 -25.132496  31.955365 2009-01-05 11:30:00   \n",
       "2009-01-05 16:30:00       8 -25.119946  31.949710 2009-01-05 14:30:00   \n",
       "2009-01-05 21:30:00      14 -25.117034  31.955413 2009-01-05 17:00:00   \n",
       "2009-01-06 02:30:00       8 -25.119946  31.949710 2009-01-05 22:00:00   \n",
       "2009-01-06 08:30:00       4 -25.125913  31.931460 2009-01-06 05:30:00   \n",
       "2009-01-06 09:30:00       7 -25.128294  31.942034 2009-01-06 09:00:00   \n",
       "2009-01-06 18:00:00       5 -25.118621  31.964323 2009-01-06 13:00:00   \n",
       "2009-01-07 02:30:00      19 -25.132496  31.955365 2009-01-06 18:30:00   \n",
       "2009-01-07 06:00:00       4 -25.125913  31.931460 2009-01-07 05:00:00   \n",
       "2009-01-07 09:00:00      13 -25.118331  31.937850 2009-01-07 07:00:00   \n",
       "2009-01-07 18:00:00       5 -25.118621  31.964323 2009-01-07 15:00:00   \n",
       "2009-01-07 19:00:00       7 -25.128294  31.942034 2009-01-07 18:30:00   \n",
       "2009-01-08 04:00:00       4 -25.125913  31.931460 2009-01-08 03:30:00   \n",
       "2009-01-08 19:30:00      14 -25.117034  31.955413 2009-01-08 17:00:00   \n",
       "2009-01-08 21:00:00       8 -25.119946  31.949710 2009-01-08 20:30:00   \n",
       "2009-01-09 05:00:00       7 -25.128294  31.942034 2009-01-08 21:30:00   \n",
       "2009-01-09 21:30:00      18 -25.145173  31.908723 2009-01-09 17:00:00   \n",
       "2009-01-10 04:00:00       0 -25.114646  31.902996 2009-01-10 03:30:00   \n",
       "2009-01-10 10:30:00       3 -25.106675  31.901583 2009-01-10 06:00:00   \n",
       "2009-01-10 13:30:00      12 -25.103387  31.918092 2009-01-10 12:00:00   \n",
       "2009-01-10 14:30:00       2 -25.107488  31.910591 2009-01-10 14:00:00   \n",
       "2009-01-11 03:00:00       9 -25.090654  31.925776 2009-01-10 16:30:00   \n",
       "2009-01-11 12:00:00       0 -25.114646  31.902996 2009-01-11 06:30:00   \n",
       "2009-01-12 02:30:00       9 -25.090654  31.925776 2009-01-11 17:00:00   \n",
       "2009-01-12 13:00:00       1 -25.082985  31.947616 2009-01-12 04:30:00   \n",
       "2009-01-12 17:30:00      15 -25.044797  31.956674 2009-01-12 15:30:00   \n",
       "\n",
       "                                       geometry                 end  \n",
       "datetime                                                             \n",
       "2008-12-23 14:30:00  POINT (31.89018 -25.09856) 2008-12-23 14:30:00  \n",
       "2008-12-24 04:30:00  POINT (31.89488 -25.12696) 2008-12-24 04:30:00  \n",
       "2008-12-25 02:30:00  POINT (31.88835 -25.03910) 2008-12-25 02:30:00  \n",
       "2008-12-27 02:30:00  POINT (31.90877 -25.16633) 2008-12-27 02:30:00  \n",
       "2008-12-27 19:30:00  POINT (31.94799 -25.22364) 2008-12-27 19:30:00  \n",
       "2008-12-29 03:30:00  POINT (31.96432 -25.11862) 2008-12-29 03:30:00  \n",
       "2008-12-29 06:30:00  POINT (31.96055 -25.09948) 2008-12-29 06:30:00  \n",
       "2008-12-29 08:30:00  POINT (31.95318 -25.09376) 2008-12-29 08:30:00  \n",
       "2008-12-29 14:00:00  POINT (31.95318 -25.06138) 2008-12-29 14:00:00  \n",
       "2008-12-29 19:00:00  POINT (31.95667 -25.04480) 2008-12-29 19:00:00  \n",
       "2008-12-30 03:00:00  POINT (31.95318 -25.06138) 2008-12-30 03:00:00  \n",
       "2008-12-30 11:00:00  POINT (31.94762 -25.08298) 2008-12-30 11:00:00  \n",
       "2008-12-31 02:30:00  POINT (31.95318 -25.09376) 2008-12-31 02:30:00  \n",
       "2008-12-31 04:00:00  POINT (31.96055 -25.09948) 2008-12-31 04:00:00  \n",
       "2008-12-31 05:30:00  POINT (31.95318 -25.09376) 2008-12-31 05:30:00  \n",
       "2009-01-01 02:31:00  POINT (31.94762 -25.08298) 2009-01-01 02:31:00  \n",
       "2009-01-01 07:00:00  POINT (31.90158 -25.10668) 2009-01-01 07:00:00  \n",
       "2009-01-01 11:30:00  POINT (31.90300 -25.11465) 2009-01-01 11:30:00  \n",
       "2009-01-01 14:30:00  POINT (31.91059 -25.10749) 2009-01-01 14:30:00  \n",
       "2009-01-02 08:30:00  POINT (31.90158 -25.10668) 2009-01-02 08:30:00  \n",
       "2009-01-02 09:30:00  POINT (31.91059 -25.10749) 2009-01-02 09:30:00  \n",
       "2009-01-02 11:30:00  POINT (31.91809 -25.10339) 2009-01-02 11:30:00  \n",
       "2009-01-02 16:00:00  POINT (31.91059 -25.10749) 2009-01-02 16:00:00  \n",
       "2009-01-02 19:00:00  POINT (31.91809 -25.10339) 2009-01-02 19:00:00  \n",
       "2009-01-02 21:00:00  POINT (31.91059 -25.10749) 2009-01-02 21:00:00  \n",
       "2009-01-03 09:00:00  POINT (31.90300 -25.11465) 2009-01-03 09:00:00  \n",
       "2009-01-03 11:31:00  POINT (31.91059 -25.10749) 2009-01-03 11:31:00  \n",
       "2009-01-03 13:30:00  POINT (31.92578 -25.09065) 2009-01-03 13:30:00  \n",
       "2009-01-03 20:00:00  POINT (31.93741 -25.09917) 2009-01-03 20:00:00  \n",
       "2009-01-04 10:00:00  POINT (31.90158 -25.10668) 2009-01-04 10:00:00  \n",
       "2009-01-04 13:30:00  POINT (31.93741 -25.09917) 2009-01-04 13:30:00  \n",
       "2009-01-05 03:30:00  POINT (31.93785 -25.11833) 2009-01-05 03:30:00  \n",
       "2009-01-05 09:00:00  POINT (31.93146 -25.12591) 2009-01-05 09:00:00  \n",
       "2009-01-05 10:00:00  POINT (31.94203 -25.12829) 2009-01-05 10:00:00  \n",
       "2009-01-05 12:00:00  POINT (31.95537 -25.13250) 2009-01-05 12:00:00  \n",
       "2009-01-05 16:30:00  POINT (31.94971 -25.11995) 2009-01-05 16:30:00  \n",
       "2009-01-05 21:30:00  POINT (31.95541 -25.11703) 2009-01-05 21:30:00  \n",
       "2009-01-06 02:30:00  POINT (31.94971 -25.11995) 2009-01-06 02:30:00  \n",
       "2009-01-06 08:30:00  POINT (31.93146 -25.12591) 2009-01-06 08:30:00  \n",
       "2009-01-06 09:30:00  POINT (31.94203 -25.12829) 2009-01-06 09:30:00  \n",
       "2009-01-06 18:00:00  POINT (31.96432 -25.11862) 2009-01-06 18:00:00  \n",
       "2009-01-07 02:30:00  POINT (31.95537 -25.13250) 2009-01-07 02:30:00  \n",
       "2009-01-07 06:00:00  POINT (31.93146 -25.12591) 2009-01-07 06:00:00  \n",
       "2009-01-07 09:00:00  POINT (31.93785 -25.11833) 2009-01-07 09:00:00  \n",
       "2009-01-07 18:00:00  POINT (31.96432 -25.11862) 2009-01-07 18:00:00  \n",
       "2009-01-07 19:00:00  POINT (31.94203 -25.12829) 2009-01-07 19:00:00  \n",
       "2009-01-08 04:00:00  POINT (31.93146 -25.12591) 2009-01-08 04:00:00  \n",
       "2009-01-08 19:30:00  POINT (31.95541 -25.11703) 2009-01-08 19:30:00  \n",
       "2009-01-08 21:00:00  POINT (31.94971 -25.11995) 2009-01-08 21:00:00  \n",
       "2009-01-09 05:00:00  POINT (31.94203 -25.12829) 2009-01-09 05:00:00  \n",
       "2009-01-09 21:30:00  POINT (31.90872 -25.14517) 2009-01-09 21:30:00  \n",
       "2009-01-10 04:00:00  POINT (31.90300 -25.11465) 2009-01-10 04:00:00  \n",
       "2009-01-10 10:30:00  POINT (31.90158 -25.10668) 2009-01-10 10:30:00  \n",
       "2009-01-10 13:30:00  POINT (31.91809 -25.10339) 2009-01-10 13:30:00  \n",
       "2009-01-10 14:30:00  POINT (31.91059 -25.10749) 2009-01-10 14:30:00  \n",
       "2009-01-11 03:00:00  POINT (31.92578 -25.09065) 2009-01-11 03:00:00  \n",
       "2009-01-11 12:00:00  POINT (31.90300 -25.11465) 2009-01-11 12:00:00  \n",
       "2009-01-12 02:30:00  POINT (31.92578 -25.09065) 2009-01-12 02:30:00  \n",
       "2009-01-12 13:00:00  POINT (31.94762 -25.08298) 2009-01-12 13:00:00  \n",
       "2009-01-12 17:30:00  POINT (31.95667 -25.04480) 2009-01-12 17:30:00  "
      ]
     },
     "execution_count": 76,
     "metadata": {},
     "output_type": "execute_result"
    }
   ],
   "source": [
    "oneuser"
   ]
  },
  {
   "cell_type": "code",
   "execution_count": 77,
   "id": "38824ddf",
   "metadata": {},
   "outputs": [],
   "source": [
    "joined = pd.concat((oneuser.reset_index(),pd.DataFrame(np.array(final_series))),axis=1)"
   ]
  },
  {
   "cell_type": "code",
   "execution_count": 78,
   "id": "97767db9",
   "metadata": {},
   "outputs": [],
   "source": [
    "joined = joined.rename({0:'level0',1:'level1',2:'level2',3:'level3',4:'level4'},axis=1)\n",
    "joined.datetime = joined.datetime.astype(str)"
   ]
  },
  {
   "cell_type": "code",
   "execution_count": 79,
   "id": "871b362a",
   "metadata": {},
   "outputs": [],
   "source": [
    "joined = joined.set_crs(4326)"
   ]
  },
  {
   "cell_type": "code",
   "execution_count": 80,
   "id": "5e8ee078",
   "metadata": {},
   "outputs": [
    {
     "data": {
      "text/html": [
       "<div>\n",
       "<style scoped>\n",
       "    .dataframe tbody tr th:only-of-type {\n",
       "        vertical-align: middle;\n",
       "    }\n",
       "\n",
       "    .dataframe tbody tr th {\n",
       "        vertical-align: top;\n",
       "    }\n",
       "\n",
       "    .dataframe thead th {\n",
       "        text-align: right;\n",
       "    }\n",
       "</style>\n",
       "<table border=\"1\" class=\"dataframe\">\n",
       "  <thead>\n",
       "    <tr style=\"text-align: right;\">\n",
       "      <th></th>\n",
       "      <th>datetime</th>\n",
       "      <th>labels</th>\n",
       "      <th>lat</th>\n",
       "      <th>lon</th>\n",
       "      <th>start</th>\n",
       "      <th>geometry</th>\n",
       "      <th>end</th>\n",
       "      <th>level0</th>\n",
       "      <th>level1</th>\n",
       "    </tr>\n",
       "  </thead>\n",
       "  <tbody>\n",
       "    <tr>\n",
       "      <th>0</th>\n",
       "      <td>2008-12-23 14:30:00</td>\n",
       "      <td>22</td>\n",
       "      <td>-25.098564</td>\n",
       "      <td>31.890176</td>\n",
       "      <td>2008-12-23 10:30:00</td>\n",
       "      <td>POINT (31.89018 -25.09856)</td>\n",
       "      <td>2008-12-23 14:30:00</td>\n",
       "      <td>7</td>\n",
       "      <td>22</td>\n",
       "    </tr>\n",
       "    <tr>\n",
       "      <th>1</th>\n",
       "      <td>2008-12-24 04:30:00</td>\n",
       "      <td>20</td>\n",
       "      <td>-25.126963</td>\n",
       "      <td>31.894877</td>\n",
       "      <td>2008-12-23 17:30:00</td>\n",
       "      <td>POINT (31.89488 -25.12696)</td>\n",
       "      <td>2008-12-24 04:30:00</td>\n",
       "      <td>7</td>\n",
       "      <td>20</td>\n",
       "    </tr>\n",
       "    <tr>\n",
       "      <th>2</th>\n",
       "      <td>2008-12-25 02:30:00</td>\n",
       "      <td>23</td>\n",
       "      <td>-25.039097</td>\n",
       "      <td>31.888347</td>\n",
       "      <td>2008-12-24 17:30:00</td>\n",
       "      <td>POINT (31.88835 -25.03910)</td>\n",
       "      <td>2008-12-25 02:30:00</td>\n",
       "      <td>2</td>\n",
       "      <td>23</td>\n",
       "    </tr>\n",
       "    <tr>\n",
       "      <th>3</th>\n",
       "      <td>2008-12-27 02:30:00</td>\n",
       "      <td>17</td>\n",
       "      <td>-25.166329</td>\n",
       "      <td>31.908769</td>\n",
       "      <td>2008-12-26 16:30:00</td>\n",
       "      <td>POINT (31.90877 -25.16633)</td>\n",
       "      <td>2008-12-27 02:30:00</td>\n",
       "      <td>6</td>\n",
       "      <td>17</td>\n",
       "    </tr>\n",
       "    <tr>\n",
       "      <th>4</th>\n",
       "      <td>2008-12-27 19:30:00</td>\n",
       "      <td>16</td>\n",
       "      <td>-25.223642</td>\n",
       "      <td>31.947985</td>\n",
       "      <td>2008-12-27 17:00:00</td>\n",
       "      <td>POINT (31.94799 -25.22364)</td>\n",
       "      <td>2008-12-27 19:30:00</td>\n",
       "      <td>8</td>\n",
       "      <td>16</td>\n",
       "    </tr>\n",
       "    <tr>\n",
       "      <th>5</th>\n",
       "      <td>2008-12-29 03:30:00</td>\n",
       "      <td>5</td>\n",
       "      <td>-25.118621</td>\n",
       "      <td>31.964323</td>\n",
       "      <td>2008-12-28 16:00:00</td>\n",
       "      <td>POINT (31.96432 -25.11862)</td>\n",
       "      <td>2008-12-29 03:30:00</td>\n",
       "      <td>3</td>\n",
       "      <td>5</td>\n",
       "    </tr>\n",
       "    <tr>\n",
       "      <th>6</th>\n",
       "      <td>2008-12-29 06:30:00</td>\n",
       "      <td>21</td>\n",
       "      <td>-25.099478</td>\n",
       "      <td>31.960548</td>\n",
       "      <td>2008-12-29 05:30:00</td>\n",
       "      <td>POINT (31.96055 -25.09948)</td>\n",
       "      <td>2008-12-29 06:30:00</td>\n",
       "      <td>5</td>\n",
       "      <td>21</td>\n",
       "    </tr>\n",
       "    <tr>\n",
       "      <th>7</th>\n",
       "      <td>2008-12-29 08:30:00</td>\n",
       "      <td>10</td>\n",
       "      <td>-25.093760</td>\n",
       "      <td>31.953178</td>\n",
       "      <td>2008-12-29 07:00:00</td>\n",
       "      <td>POINT (31.95318 -25.09376)</td>\n",
       "      <td>2008-12-29 08:30:00</td>\n",
       "      <td>5</td>\n",
       "      <td>10</td>\n",
       "    </tr>\n",
       "    <tr>\n",
       "      <th>8</th>\n",
       "      <td>2008-12-29 14:00:00</td>\n",
       "      <td>11</td>\n",
       "      <td>-25.061384</td>\n",
       "      <td>31.953184</td>\n",
       "      <td>2008-12-29 11:30:00</td>\n",
       "      <td>POINT (31.95318 -25.06138)</td>\n",
       "      <td>2008-12-29 14:00:00</td>\n",
       "      <td>1</td>\n",
       "      <td>11</td>\n",
       "    </tr>\n",
       "    <tr>\n",
       "      <th>9</th>\n",
       "      <td>2008-12-29 19:00:00</td>\n",
       "      <td>15</td>\n",
       "      <td>-25.044797</td>\n",
       "      <td>31.956674</td>\n",
       "      <td>2008-12-29 16:00:00</td>\n",
       "      <td>POINT (31.95667 -25.04480)</td>\n",
       "      <td>2008-12-29 19:00:00</td>\n",
       "      <td>1</td>\n",
       "      <td>15</td>\n",
       "    </tr>\n",
       "    <tr>\n",
       "      <th>10</th>\n",
       "      <td>2008-12-30 03:00:00</td>\n",
       "      <td>11</td>\n",
       "      <td>-25.061384</td>\n",
       "      <td>31.953184</td>\n",
       "      <td>2008-12-30 02:30:00</td>\n",
       "      <td>POINT (31.95318 -25.06138)</td>\n",
       "      <td>2008-12-30 03:00:00</td>\n",
       "      <td>1</td>\n",
       "      <td>11</td>\n",
       "    </tr>\n",
       "    <tr>\n",
       "      <th>11</th>\n",
       "      <td>2008-12-30 11:00:00</td>\n",
       "      <td>1</td>\n",
       "      <td>-25.082985</td>\n",
       "      <td>31.947616</td>\n",
       "      <td>2008-12-30 06:00:00</td>\n",
       "      <td>POINT (31.94762 -25.08298)</td>\n",
       "      <td>2008-12-30 11:00:00</td>\n",
       "      <td>5</td>\n",
       "      <td>1</td>\n",
       "    </tr>\n",
       "    <tr>\n",
       "      <th>12</th>\n",
       "      <td>2008-12-31 02:30:00</td>\n",
       "      <td>10</td>\n",
       "      <td>-25.093760</td>\n",
       "      <td>31.953178</td>\n",
       "      <td>2008-12-30 17:30:00</td>\n",
       "      <td>POINT (31.95318 -25.09376)</td>\n",
       "      <td>2008-12-31 02:30:00</td>\n",
       "      <td>5</td>\n",
       "      <td>10</td>\n",
       "    </tr>\n",
       "    <tr>\n",
       "      <th>13</th>\n",
       "      <td>2008-12-31 04:00:00</td>\n",
       "      <td>21</td>\n",
       "      <td>-25.099478</td>\n",
       "      <td>31.960548</td>\n",
       "      <td>2008-12-31 03:30:00</td>\n",
       "      <td>POINT (31.96055 -25.09948)</td>\n",
       "      <td>2008-12-31 04:00:00</td>\n",
       "      <td>5</td>\n",
       "      <td>21</td>\n",
       "    </tr>\n",
       "    <tr>\n",
       "      <th>14</th>\n",
       "      <td>2008-12-31 05:30:00</td>\n",
       "      <td>10</td>\n",
       "      <td>-25.093760</td>\n",
       "      <td>31.953178</td>\n",
       "      <td>2008-12-31 05:00:00</td>\n",
       "      <td>POINT (31.95318 -25.09376)</td>\n",
       "      <td>2008-12-31 05:30:00</td>\n",
       "      <td>5</td>\n",
       "      <td>10</td>\n",
       "    </tr>\n",
       "    <tr>\n",
       "      <th>15</th>\n",
       "      <td>2009-01-01 02:31:00</td>\n",
       "      <td>1</td>\n",
       "      <td>-25.082985</td>\n",
       "      <td>31.947616</td>\n",
       "      <td>2008-12-31 07:00:00</td>\n",
       "      <td>POINT (31.94762 -25.08298)</td>\n",
       "      <td>2009-01-01 02:31:00</td>\n",
       "      <td>5</td>\n",
       "      <td>1</td>\n",
       "    </tr>\n",
       "    <tr>\n",
       "      <th>16</th>\n",
       "      <td>2009-01-01 07:00:00</td>\n",
       "      <td>3</td>\n",
       "      <td>-25.106675</td>\n",
       "      <td>31.901583</td>\n",
       "      <td>2009-01-01 06:00:00</td>\n",
       "      <td>POINT (31.90158 -25.10668)</td>\n",
       "      <td>2009-01-01 07:00:00</td>\n",
       "      <td>7</td>\n",
       "      <td>3</td>\n",
       "    </tr>\n",
       "    <tr>\n",
       "      <th>17</th>\n",
       "      <td>2009-01-01 11:30:00</td>\n",
       "      <td>0</td>\n",
       "      <td>-25.114646</td>\n",
       "      <td>31.902996</td>\n",
       "      <td>2009-01-01 08:00:00</td>\n",
       "      <td>POINT (31.90300 -25.11465)</td>\n",
       "      <td>2009-01-01 11:30:00</td>\n",
       "      <td>7</td>\n",
       "      <td>0</td>\n",
       "    </tr>\n",
       "    <tr>\n",
       "      <th>18</th>\n",
       "      <td>2009-01-01 14:30:00</td>\n",
       "      <td>2</td>\n",
       "      <td>-25.107488</td>\n",
       "      <td>31.910591</td>\n",
       "      <td>2009-01-01 14:00:00</td>\n",
       "      <td>POINT (31.91059 -25.10749)</td>\n",
       "      <td>2009-01-01 14:30:00</td>\n",
       "      <td>7</td>\n",
       "      <td>2</td>\n",
       "    </tr>\n",
       "    <tr>\n",
       "      <th>19</th>\n",
       "      <td>2009-01-02 08:30:00</td>\n",
       "      <td>3</td>\n",
       "      <td>-25.106675</td>\n",
       "      <td>31.901583</td>\n",
       "      <td>2009-01-02 05:30:00</td>\n",
       "      <td>POINT (31.90158 -25.10668)</td>\n",
       "      <td>2009-01-02 08:30:00</td>\n",
       "      <td>7</td>\n",
       "      <td>3</td>\n",
       "    </tr>\n",
       "    <tr>\n",
       "      <th>20</th>\n",
       "      <td>2009-01-02 09:30:00</td>\n",
       "      <td>2</td>\n",
       "      <td>-25.107488</td>\n",
       "      <td>31.910591</td>\n",
       "      <td>2009-01-02 09:00:00</td>\n",
       "      <td>POINT (31.91059 -25.10749)</td>\n",
       "      <td>2009-01-02 09:30:00</td>\n",
       "      <td>7</td>\n",
       "      <td>2</td>\n",
       "    </tr>\n",
       "    <tr>\n",
       "      <th>21</th>\n",
       "      <td>2009-01-02 11:30:00</td>\n",
       "      <td>12</td>\n",
       "      <td>-25.103387</td>\n",
       "      <td>31.918092</td>\n",
       "      <td>2009-01-02 10:30:00</td>\n",
       "      <td>POINT (31.91809 -25.10339)</td>\n",
       "      <td>2009-01-02 11:30:00</td>\n",
       "      <td>7</td>\n",
       "      <td>12</td>\n",
       "    </tr>\n",
       "    <tr>\n",
       "      <th>22</th>\n",
       "      <td>2009-01-02 16:00:00</td>\n",
       "      <td>2</td>\n",
       "      <td>-25.107488</td>\n",
       "      <td>31.910591</td>\n",
       "      <td>2009-01-02 15:00:00</td>\n",
       "      <td>POINT (31.91059 -25.10749)</td>\n",
       "      <td>2009-01-02 16:00:00</td>\n",
       "      <td>7</td>\n",
       "      <td>2</td>\n",
       "    </tr>\n",
       "    <tr>\n",
       "      <th>23</th>\n",
       "      <td>2009-01-02 19:00:00</td>\n",
       "      <td>12</td>\n",
       "      <td>-25.103387</td>\n",
       "      <td>31.918092</td>\n",
       "      <td>2009-01-02 17:00:00</td>\n",
       "      <td>POINT (31.91809 -25.10339)</td>\n",
       "      <td>2009-01-02 19:00:00</td>\n",
       "      <td>7</td>\n",
       "      <td>12</td>\n",
       "    </tr>\n",
       "    <tr>\n",
       "      <th>24</th>\n",
       "      <td>2009-01-02 21:00:00</td>\n",
       "      <td>2</td>\n",
       "      <td>-25.107488</td>\n",
       "      <td>31.910591</td>\n",
       "      <td>2009-01-02 19:30:00</td>\n",
       "      <td>POINT (31.91059 -25.10749)</td>\n",
       "      <td>2009-01-02 21:00:00</td>\n",
       "      <td>7</td>\n",
       "      <td>2</td>\n",
       "    </tr>\n",
       "    <tr>\n",
       "      <th>25</th>\n",
       "      <td>2009-01-03 09:00:00</td>\n",
       "      <td>0</td>\n",
       "      <td>-25.114646</td>\n",
       "      <td>31.902996</td>\n",
       "      <td>2009-01-02 21:31:00</td>\n",
       "      <td>POINT (31.90300 -25.11465)</td>\n",
       "      <td>2009-01-03 09:00:00</td>\n",
       "      <td>7</td>\n",
       "      <td>0</td>\n",
       "    </tr>\n",
       "    <tr>\n",
       "      <th>26</th>\n",
       "      <td>2009-01-03 11:31:00</td>\n",
       "      <td>2</td>\n",
       "      <td>-25.107488</td>\n",
       "      <td>31.910591</td>\n",
       "      <td>2009-01-03 10:00:00</td>\n",
       "      <td>POINT (31.91059 -25.10749)</td>\n",
       "      <td>2009-01-03 11:31:00</td>\n",
       "      <td>7</td>\n",
       "      <td>2</td>\n",
       "    </tr>\n",
       "    <tr>\n",
       "      <th>27</th>\n",
       "      <td>2009-01-03 13:30:00</td>\n",
       "      <td>9</td>\n",
       "      <td>-25.090654</td>\n",
       "      <td>31.925776</td>\n",
       "      <td>2009-01-03 13:00:00</td>\n",
       "      <td>POINT (31.92578 -25.09065)</td>\n",
       "      <td>2009-01-03 13:30:00</td>\n",
       "      <td>4</td>\n",
       "      <td>9</td>\n",
       "    </tr>\n",
       "    <tr>\n",
       "      <th>28</th>\n",
       "      <td>2009-01-03 20:00:00</td>\n",
       "      <td>6</td>\n",
       "      <td>-25.099166</td>\n",
       "      <td>31.937409</td>\n",
       "      <td>2009-01-03 14:30:00</td>\n",
       "      <td>POINT (31.93741 -25.09917)</td>\n",
       "      <td>2009-01-03 20:00:00</td>\n",
       "      <td>4</td>\n",
       "      <td>6</td>\n",
       "    </tr>\n",
       "    <tr>\n",
       "      <th>29</th>\n",
       "      <td>2009-01-04 10:00:00</td>\n",
       "      <td>3</td>\n",
       "      <td>-25.106675</td>\n",
       "      <td>31.901583</td>\n",
       "      <td>2009-01-04 07:00:00</td>\n",
       "      <td>POINT (31.90158 -25.10668)</td>\n",
       "      <td>2009-01-04 10:00:00</td>\n",
       "      <td>7</td>\n",
       "      <td>3</td>\n",
       "    </tr>\n",
       "    <tr>\n",
       "      <th>30</th>\n",
       "      <td>2009-01-04 13:30:00</td>\n",
       "      <td>6</td>\n",
       "      <td>-25.099166</td>\n",
       "      <td>31.937409</td>\n",
       "      <td>2009-01-04 13:00:00</td>\n",
       "      <td>POINT (31.93741 -25.09917)</td>\n",
       "      <td>2009-01-04 13:30:00</td>\n",
       "      <td>4</td>\n",
       "      <td>6</td>\n",
       "    </tr>\n",
       "    <tr>\n",
       "      <th>31</th>\n",
       "      <td>2009-01-05 03:30:00</td>\n",
       "      <td>13</td>\n",
       "      <td>-25.118331</td>\n",
       "      <td>31.937850</td>\n",
       "      <td>2009-01-05 03:00:00</td>\n",
       "      <td>POINT (31.93785 -25.11833)</td>\n",
       "      <td>2009-01-05 03:30:00</td>\n",
       "      <td>3</td>\n",
       "      <td>13</td>\n",
       "    </tr>\n",
       "    <tr>\n",
       "      <th>32</th>\n",
       "      <td>2009-01-05 09:00:00</td>\n",
       "      <td>4</td>\n",
       "      <td>-25.125913</td>\n",
       "      <td>31.931460</td>\n",
       "      <td>2009-01-05 04:30:00</td>\n",
       "      <td>POINT (31.93146 -25.12591)</td>\n",
       "      <td>2009-01-05 09:00:00</td>\n",
       "      <td>3</td>\n",
       "      <td>4</td>\n",
       "    </tr>\n",
       "    <tr>\n",
       "      <th>33</th>\n",
       "      <td>2009-01-05 10:00:00</td>\n",
       "      <td>7</td>\n",
       "      <td>-25.128294</td>\n",
       "      <td>31.942034</td>\n",
       "      <td>2009-01-05 09:30:00</td>\n",
       "      <td>POINT (31.94203 -25.12829)</td>\n",
       "      <td>2009-01-05 10:00:00</td>\n",
       "      <td>3</td>\n",
       "      <td>7</td>\n",
       "    </tr>\n",
       "    <tr>\n",
       "      <th>34</th>\n",
       "      <td>2009-01-05 12:00:00</td>\n",
       "      <td>19</td>\n",
       "      <td>-25.132496</td>\n",
       "      <td>31.955365</td>\n",
       "      <td>2009-01-05 11:30:00</td>\n",
       "      <td>POINT (31.95537 -25.13250)</td>\n",
       "      <td>2009-01-05 12:00:00</td>\n",
       "      <td>3</td>\n",
       "      <td>19</td>\n",
       "    </tr>\n",
       "    <tr>\n",
       "      <th>35</th>\n",
       "      <td>2009-01-05 16:30:00</td>\n",
       "      <td>8</td>\n",
       "      <td>-25.119946</td>\n",
       "      <td>31.949710</td>\n",
       "      <td>2009-01-05 14:30:00</td>\n",
       "      <td>POINT (31.94971 -25.11995)</td>\n",
       "      <td>2009-01-05 16:30:00</td>\n",
       "      <td>3</td>\n",
       "      <td>8</td>\n",
       "    </tr>\n",
       "    <tr>\n",
       "      <th>36</th>\n",
       "      <td>2009-01-05 21:30:00</td>\n",
       "      <td>14</td>\n",
       "      <td>-25.117034</td>\n",
       "      <td>31.955413</td>\n",
       "      <td>2009-01-05 17:00:00</td>\n",
       "      <td>POINT (31.95541 -25.11703)</td>\n",
       "      <td>2009-01-05 21:30:00</td>\n",
       "      <td>3</td>\n",
       "      <td>14</td>\n",
       "    </tr>\n",
       "    <tr>\n",
       "      <th>37</th>\n",
       "      <td>2009-01-06 02:30:00</td>\n",
       "      <td>8</td>\n",
       "      <td>-25.119946</td>\n",
       "      <td>31.949710</td>\n",
       "      <td>2009-01-05 22:00:00</td>\n",
       "      <td>POINT (31.94971 -25.11995)</td>\n",
       "      <td>2009-01-06 02:30:00</td>\n",
       "      <td>3</td>\n",
       "      <td>8</td>\n",
       "    </tr>\n",
       "    <tr>\n",
       "      <th>38</th>\n",
       "      <td>2009-01-06 08:30:00</td>\n",
       "      <td>4</td>\n",
       "      <td>-25.125913</td>\n",
       "      <td>31.931460</td>\n",
       "      <td>2009-01-06 05:30:00</td>\n",
       "      <td>POINT (31.93146 -25.12591)</td>\n",
       "      <td>2009-01-06 08:30:00</td>\n",
       "      <td>3</td>\n",
       "      <td>4</td>\n",
       "    </tr>\n",
       "    <tr>\n",
       "      <th>39</th>\n",
       "      <td>2009-01-06 09:30:00</td>\n",
       "      <td>7</td>\n",
       "      <td>-25.128294</td>\n",
       "      <td>31.942034</td>\n",
       "      <td>2009-01-06 09:00:00</td>\n",
       "      <td>POINT (31.94203 -25.12829)</td>\n",
       "      <td>2009-01-06 09:30:00</td>\n",
       "      <td>3</td>\n",
       "      <td>7</td>\n",
       "    </tr>\n",
       "    <tr>\n",
       "      <th>40</th>\n",
       "      <td>2009-01-06 18:00:00</td>\n",
       "      <td>5</td>\n",
       "      <td>-25.118621</td>\n",
       "      <td>31.964323</td>\n",
       "      <td>2009-01-06 13:00:00</td>\n",
       "      <td>POINT (31.96432 -25.11862)</td>\n",
       "      <td>2009-01-06 18:00:00</td>\n",
       "      <td>3</td>\n",
       "      <td>5</td>\n",
       "    </tr>\n",
       "    <tr>\n",
       "      <th>41</th>\n",
       "      <td>2009-01-07 02:30:00</td>\n",
       "      <td>19</td>\n",
       "      <td>-25.132496</td>\n",
       "      <td>31.955365</td>\n",
       "      <td>2009-01-06 18:30:00</td>\n",
       "      <td>POINT (31.95537 -25.13250)</td>\n",
       "      <td>2009-01-07 02:30:00</td>\n",
       "      <td>3</td>\n",
       "      <td>19</td>\n",
       "    </tr>\n",
       "    <tr>\n",
       "      <th>42</th>\n",
       "      <td>2009-01-07 06:00:00</td>\n",
       "      <td>4</td>\n",
       "      <td>-25.125913</td>\n",
       "      <td>31.931460</td>\n",
       "      <td>2009-01-07 05:00:00</td>\n",
       "      <td>POINT (31.93146 -25.12591)</td>\n",
       "      <td>2009-01-07 06:00:00</td>\n",
       "      <td>3</td>\n",
       "      <td>4</td>\n",
       "    </tr>\n",
       "    <tr>\n",
       "      <th>43</th>\n",
       "      <td>2009-01-07 09:00:00</td>\n",
       "      <td>13</td>\n",
       "      <td>-25.118331</td>\n",
       "      <td>31.937850</td>\n",
       "      <td>2009-01-07 07:00:00</td>\n",
       "      <td>POINT (31.93785 -25.11833)</td>\n",
       "      <td>2009-01-07 09:00:00</td>\n",
       "      <td>3</td>\n",
       "      <td>13</td>\n",
       "    </tr>\n",
       "    <tr>\n",
       "      <th>44</th>\n",
       "      <td>2009-01-07 18:00:00</td>\n",
       "      <td>5</td>\n",
       "      <td>-25.118621</td>\n",
       "      <td>31.964323</td>\n",
       "      <td>2009-01-07 15:00:00</td>\n",
       "      <td>POINT (31.96432 -25.11862)</td>\n",
       "      <td>2009-01-07 18:00:00</td>\n",
       "      <td>3</td>\n",
       "      <td>5</td>\n",
       "    </tr>\n",
       "    <tr>\n",
       "      <th>45</th>\n",
       "      <td>2009-01-07 19:00:00</td>\n",
       "      <td>7</td>\n",
       "      <td>-25.128294</td>\n",
       "      <td>31.942034</td>\n",
       "      <td>2009-01-07 18:30:00</td>\n",
       "      <td>POINT (31.94203 -25.12829)</td>\n",
       "      <td>2009-01-07 19:00:00</td>\n",
       "      <td>3</td>\n",
       "      <td>7</td>\n",
       "    </tr>\n",
       "    <tr>\n",
       "      <th>46</th>\n",
       "      <td>2009-01-08 04:00:00</td>\n",
       "      <td>4</td>\n",
       "      <td>-25.125913</td>\n",
       "      <td>31.931460</td>\n",
       "      <td>2009-01-08 03:30:00</td>\n",
       "      <td>POINT (31.93146 -25.12591)</td>\n",
       "      <td>2009-01-08 04:00:00</td>\n",
       "      <td>3</td>\n",
       "      <td>4</td>\n",
       "    </tr>\n",
       "    <tr>\n",
       "      <th>47</th>\n",
       "      <td>2009-01-08 19:30:00</td>\n",
       "      <td>14</td>\n",
       "      <td>-25.117034</td>\n",
       "      <td>31.955413</td>\n",
       "      <td>2009-01-08 17:00:00</td>\n",
       "      <td>POINT (31.95541 -25.11703)</td>\n",
       "      <td>2009-01-08 19:30:00</td>\n",
       "      <td>3</td>\n",
       "      <td>14</td>\n",
       "    </tr>\n",
       "    <tr>\n",
       "      <th>48</th>\n",
       "      <td>2009-01-08 21:00:00</td>\n",
       "      <td>8</td>\n",
       "      <td>-25.119946</td>\n",
       "      <td>31.949710</td>\n",
       "      <td>2009-01-08 20:30:00</td>\n",
       "      <td>POINT (31.94971 -25.11995)</td>\n",
       "      <td>2009-01-08 21:00:00</td>\n",
       "      <td>3</td>\n",
       "      <td>8</td>\n",
       "    </tr>\n",
       "    <tr>\n",
       "      <th>49</th>\n",
       "      <td>2009-01-09 05:00:00</td>\n",
       "      <td>7</td>\n",
       "      <td>-25.128294</td>\n",
       "      <td>31.942034</td>\n",
       "      <td>2009-01-08 21:30:00</td>\n",
       "      <td>POINT (31.94203 -25.12829)</td>\n",
       "      <td>2009-01-09 05:00:00</td>\n",
       "      <td>3</td>\n",
       "      <td>7</td>\n",
       "    </tr>\n",
       "    <tr>\n",
       "      <th>50</th>\n",
       "      <td>2009-01-09 21:30:00</td>\n",
       "      <td>18</td>\n",
       "      <td>-25.145173</td>\n",
       "      <td>31.908723</td>\n",
       "      <td>2009-01-09 17:00:00</td>\n",
       "      <td>POINT (31.90872 -25.14517)</td>\n",
       "      <td>2009-01-09 21:30:00</td>\n",
       "      <td>6</td>\n",
       "      <td>18</td>\n",
       "    </tr>\n",
       "    <tr>\n",
       "      <th>51</th>\n",
       "      <td>2009-01-10 04:00:00</td>\n",
       "      <td>0</td>\n",
       "      <td>-25.114646</td>\n",
       "      <td>31.902996</td>\n",
       "      <td>2009-01-10 03:30:00</td>\n",
       "      <td>POINT (31.90300 -25.11465)</td>\n",
       "      <td>2009-01-10 04:00:00</td>\n",
       "      <td>7</td>\n",
       "      <td>0</td>\n",
       "    </tr>\n",
       "    <tr>\n",
       "      <th>52</th>\n",
       "      <td>2009-01-10 10:30:00</td>\n",
       "      <td>3</td>\n",
       "      <td>-25.106675</td>\n",
       "      <td>31.901583</td>\n",
       "      <td>2009-01-10 06:00:00</td>\n",
       "      <td>POINT (31.90158 -25.10668)</td>\n",
       "      <td>2009-01-10 10:30:00</td>\n",
       "      <td>7</td>\n",
       "      <td>3</td>\n",
       "    </tr>\n",
       "    <tr>\n",
       "      <th>53</th>\n",
       "      <td>2009-01-10 13:30:00</td>\n",
       "      <td>12</td>\n",
       "      <td>-25.103387</td>\n",
       "      <td>31.918092</td>\n",
       "      <td>2009-01-10 12:00:00</td>\n",
       "      <td>POINT (31.91809 -25.10339)</td>\n",
       "      <td>2009-01-10 13:30:00</td>\n",
       "      <td>7</td>\n",
       "      <td>12</td>\n",
       "    </tr>\n",
       "    <tr>\n",
       "      <th>54</th>\n",
       "      <td>2009-01-10 14:30:00</td>\n",
       "      <td>2</td>\n",
       "      <td>-25.107488</td>\n",
       "      <td>31.910591</td>\n",
       "      <td>2009-01-10 14:00:00</td>\n",
       "      <td>POINT (31.91059 -25.10749)</td>\n",
       "      <td>2009-01-10 14:30:00</td>\n",
       "      <td>7</td>\n",
       "      <td>2</td>\n",
       "    </tr>\n",
       "    <tr>\n",
       "      <th>55</th>\n",
       "      <td>2009-01-11 03:00:00</td>\n",
       "      <td>9</td>\n",
       "      <td>-25.090654</td>\n",
       "      <td>31.925776</td>\n",
       "      <td>2009-01-10 16:30:00</td>\n",
       "      <td>POINT (31.92578 -25.09065)</td>\n",
       "      <td>2009-01-11 03:00:00</td>\n",
       "      <td>4</td>\n",
       "      <td>9</td>\n",
       "    </tr>\n",
       "    <tr>\n",
       "      <th>56</th>\n",
       "      <td>2009-01-11 12:00:00</td>\n",
       "      <td>0</td>\n",
       "      <td>-25.114646</td>\n",
       "      <td>31.902996</td>\n",
       "      <td>2009-01-11 06:30:00</td>\n",
       "      <td>POINT (31.90300 -25.11465)</td>\n",
       "      <td>2009-01-11 12:00:00</td>\n",
       "      <td>7</td>\n",
       "      <td>0</td>\n",
       "    </tr>\n",
       "    <tr>\n",
       "      <th>57</th>\n",
       "      <td>2009-01-12 02:30:00</td>\n",
       "      <td>9</td>\n",
       "      <td>-25.090654</td>\n",
       "      <td>31.925776</td>\n",
       "      <td>2009-01-11 17:00:00</td>\n",
       "      <td>POINT (31.92578 -25.09065)</td>\n",
       "      <td>2009-01-12 02:30:00</td>\n",
       "      <td>4</td>\n",
       "      <td>9</td>\n",
       "    </tr>\n",
       "    <tr>\n",
       "      <th>58</th>\n",
       "      <td>2009-01-12 13:00:00</td>\n",
       "      <td>1</td>\n",
       "      <td>-25.082985</td>\n",
       "      <td>31.947616</td>\n",
       "      <td>2009-01-12 04:30:00</td>\n",
       "      <td>POINT (31.94762 -25.08298)</td>\n",
       "      <td>2009-01-12 13:00:00</td>\n",
       "      <td>5</td>\n",
       "      <td>1</td>\n",
       "    </tr>\n",
       "    <tr>\n",
       "      <th>59</th>\n",
       "      <td>2009-01-12 17:30:00</td>\n",
       "      <td>15</td>\n",
       "      <td>-25.044797</td>\n",
       "      <td>31.956674</td>\n",
       "      <td>2009-01-12 15:30:00</td>\n",
       "      <td>POINT (31.95667 -25.04480)</td>\n",
       "      <td>2009-01-12 17:30:00</td>\n",
       "      <td>1</td>\n",
       "      <td>15</td>\n",
       "    </tr>\n",
       "  </tbody>\n",
       "</table>\n",
       "</div>"
      ],
      "text/plain": [
       "               datetime  labels        lat        lon               start  \\\n",
       "0   2008-12-23 14:30:00      22 -25.098564  31.890176 2008-12-23 10:30:00   \n",
       "1   2008-12-24 04:30:00      20 -25.126963  31.894877 2008-12-23 17:30:00   \n",
       "2   2008-12-25 02:30:00      23 -25.039097  31.888347 2008-12-24 17:30:00   \n",
       "3   2008-12-27 02:30:00      17 -25.166329  31.908769 2008-12-26 16:30:00   \n",
       "4   2008-12-27 19:30:00      16 -25.223642  31.947985 2008-12-27 17:00:00   \n",
       "5   2008-12-29 03:30:00       5 -25.118621  31.964323 2008-12-28 16:00:00   \n",
       "6   2008-12-29 06:30:00      21 -25.099478  31.960548 2008-12-29 05:30:00   \n",
       "7   2008-12-29 08:30:00      10 -25.093760  31.953178 2008-12-29 07:00:00   \n",
       "8   2008-12-29 14:00:00      11 -25.061384  31.953184 2008-12-29 11:30:00   \n",
       "9   2008-12-29 19:00:00      15 -25.044797  31.956674 2008-12-29 16:00:00   \n",
       "10  2008-12-30 03:00:00      11 -25.061384  31.953184 2008-12-30 02:30:00   \n",
       "11  2008-12-30 11:00:00       1 -25.082985  31.947616 2008-12-30 06:00:00   \n",
       "12  2008-12-31 02:30:00      10 -25.093760  31.953178 2008-12-30 17:30:00   \n",
       "13  2008-12-31 04:00:00      21 -25.099478  31.960548 2008-12-31 03:30:00   \n",
       "14  2008-12-31 05:30:00      10 -25.093760  31.953178 2008-12-31 05:00:00   \n",
       "15  2009-01-01 02:31:00       1 -25.082985  31.947616 2008-12-31 07:00:00   \n",
       "16  2009-01-01 07:00:00       3 -25.106675  31.901583 2009-01-01 06:00:00   \n",
       "17  2009-01-01 11:30:00       0 -25.114646  31.902996 2009-01-01 08:00:00   \n",
       "18  2009-01-01 14:30:00       2 -25.107488  31.910591 2009-01-01 14:00:00   \n",
       "19  2009-01-02 08:30:00       3 -25.106675  31.901583 2009-01-02 05:30:00   \n",
       "20  2009-01-02 09:30:00       2 -25.107488  31.910591 2009-01-02 09:00:00   \n",
       "21  2009-01-02 11:30:00      12 -25.103387  31.918092 2009-01-02 10:30:00   \n",
       "22  2009-01-02 16:00:00       2 -25.107488  31.910591 2009-01-02 15:00:00   \n",
       "23  2009-01-02 19:00:00      12 -25.103387  31.918092 2009-01-02 17:00:00   \n",
       "24  2009-01-02 21:00:00       2 -25.107488  31.910591 2009-01-02 19:30:00   \n",
       "25  2009-01-03 09:00:00       0 -25.114646  31.902996 2009-01-02 21:31:00   \n",
       "26  2009-01-03 11:31:00       2 -25.107488  31.910591 2009-01-03 10:00:00   \n",
       "27  2009-01-03 13:30:00       9 -25.090654  31.925776 2009-01-03 13:00:00   \n",
       "28  2009-01-03 20:00:00       6 -25.099166  31.937409 2009-01-03 14:30:00   \n",
       "29  2009-01-04 10:00:00       3 -25.106675  31.901583 2009-01-04 07:00:00   \n",
       "30  2009-01-04 13:30:00       6 -25.099166  31.937409 2009-01-04 13:00:00   \n",
       "31  2009-01-05 03:30:00      13 -25.118331  31.937850 2009-01-05 03:00:00   \n",
       "32  2009-01-05 09:00:00       4 -25.125913  31.931460 2009-01-05 04:30:00   \n",
       "33  2009-01-05 10:00:00       7 -25.128294  31.942034 2009-01-05 09:30:00   \n",
       "34  2009-01-05 12:00:00      19 -25.132496  31.955365 2009-01-05 11:30:00   \n",
       "35  2009-01-05 16:30:00       8 -25.119946  31.949710 2009-01-05 14:30:00   \n",
       "36  2009-01-05 21:30:00      14 -25.117034  31.955413 2009-01-05 17:00:00   \n",
       "37  2009-01-06 02:30:00       8 -25.119946  31.949710 2009-01-05 22:00:00   \n",
       "38  2009-01-06 08:30:00       4 -25.125913  31.931460 2009-01-06 05:30:00   \n",
       "39  2009-01-06 09:30:00       7 -25.128294  31.942034 2009-01-06 09:00:00   \n",
       "40  2009-01-06 18:00:00       5 -25.118621  31.964323 2009-01-06 13:00:00   \n",
       "41  2009-01-07 02:30:00      19 -25.132496  31.955365 2009-01-06 18:30:00   \n",
       "42  2009-01-07 06:00:00       4 -25.125913  31.931460 2009-01-07 05:00:00   \n",
       "43  2009-01-07 09:00:00      13 -25.118331  31.937850 2009-01-07 07:00:00   \n",
       "44  2009-01-07 18:00:00       5 -25.118621  31.964323 2009-01-07 15:00:00   \n",
       "45  2009-01-07 19:00:00       7 -25.128294  31.942034 2009-01-07 18:30:00   \n",
       "46  2009-01-08 04:00:00       4 -25.125913  31.931460 2009-01-08 03:30:00   \n",
       "47  2009-01-08 19:30:00      14 -25.117034  31.955413 2009-01-08 17:00:00   \n",
       "48  2009-01-08 21:00:00       8 -25.119946  31.949710 2009-01-08 20:30:00   \n",
       "49  2009-01-09 05:00:00       7 -25.128294  31.942034 2009-01-08 21:30:00   \n",
       "50  2009-01-09 21:30:00      18 -25.145173  31.908723 2009-01-09 17:00:00   \n",
       "51  2009-01-10 04:00:00       0 -25.114646  31.902996 2009-01-10 03:30:00   \n",
       "52  2009-01-10 10:30:00       3 -25.106675  31.901583 2009-01-10 06:00:00   \n",
       "53  2009-01-10 13:30:00      12 -25.103387  31.918092 2009-01-10 12:00:00   \n",
       "54  2009-01-10 14:30:00       2 -25.107488  31.910591 2009-01-10 14:00:00   \n",
       "55  2009-01-11 03:00:00       9 -25.090654  31.925776 2009-01-10 16:30:00   \n",
       "56  2009-01-11 12:00:00       0 -25.114646  31.902996 2009-01-11 06:30:00   \n",
       "57  2009-01-12 02:30:00       9 -25.090654  31.925776 2009-01-11 17:00:00   \n",
       "58  2009-01-12 13:00:00       1 -25.082985  31.947616 2009-01-12 04:30:00   \n",
       "59  2009-01-12 17:30:00      15 -25.044797  31.956674 2009-01-12 15:30:00   \n",
       "\n",
       "                      geometry                 end  level0  level1  \n",
       "0   POINT (31.89018 -25.09856) 2008-12-23 14:30:00       7      22  \n",
       "1   POINT (31.89488 -25.12696) 2008-12-24 04:30:00       7      20  \n",
       "2   POINT (31.88835 -25.03910) 2008-12-25 02:30:00       2      23  \n",
       "3   POINT (31.90877 -25.16633) 2008-12-27 02:30:00       6      17  \n",
       "4   POINT (31.94799 -25.22364) 2008-12-27 19:30:00       8      16  \n",
       "5   POINT (31.96432 -25.11862) 2008-12-29 03:30:00       3       5  \n",
       "6   POINT (31.96055 -25.09948) 2008-12-29 06:30:00       5      21  \n",
       "7   POINT (31.95318 -25.09376) 2008-12-29 08:30:00       5      10  \n",
       "8   POINT (31.95318 -25.06138) 2008-12-29 14:00:00       1      11  \n",
       "9   POINT (31.95667 -25.04480) 2008-12-29 19:00:00       1      15  \n",
       "10  POINT (31.95318 -25.06138) 2008-12-30 03:00:00       1      11  \n",
       "11  POINT (31.94762 -25.08298) 2008-12-30 11:00:00       5       1  \n",
       "12  POINT (31.95318 -25.09376) 2008-12-31 02:30:00       5      10  \n",
       "13  POINT (31.96055 -25.09948) 2008-12-31 04:00:00       5      21  \n",
       "14  POINT (31.95318 -25.09376) 2008-12-31 05:30:00       5      10  \n",
       "15  POINT (31.94762 -25.08298) 2009-01-01 02:31:00       5       1  \n",
       "16  POINT (31.90158 -25.10668) 2009-01-01 07:00:00       7       3  \n",
       "17  POINT (31.90300 -25.11465) 2009-01-01 11:30:00       7       0  \n",
       "18  POINT (31.91059 -25.10749) 2009-01-01 14:30:00       7       2  \n",
       "19  POINT (31.90158 -25.10668) 2009-01-02 08:30:00       7       3  \n",
       "20  POINT (31.91059 -25.10749) 2009-01-02 09:30:00       7       2  \n",
       "21  POINT (31.91809 -25.10339) 2009-01-02 11:30:00       7      12  \n",
       "22  POINT (31.91059 -25.10749) 2009-01-02 16:00:00       7       2  \n",
       "23  POINT (31.91809 -25.10339) 2009-01-02 19:00:00       7      12  \n",
       "24  POINT (31.91059 -25.10749) 2009-01-02 21:00:00       7       2  \n",
       "25  POINT (31.90300 -25.11465) 2009-01-03 09:00:00       7       0  \n",
       "26  POINT (31.91059 -25.10749) 2009-01-03 11:31:00       7       2  \n",
       "27  POINT (31.92578 -25.09065) 2009-01-03 13:30:00       4       9  \n",
       "28  POINT (31.93741 -25.09917) 2009-01-03 20:00:00       4       6  \n",
       "29  POINT (31.90158 -25.10668) 2009-01-04 10:00:00       7       3  \n",
       "30  POINT (31.93741 -25.09917) 2009-01-04 13:30:00       4       6  \n",
       "31  POINT (31.93785 -25.11833) 2009-01-05 03:30:00       3      13  \n",
       "32  POINT (31.93146 -25.12591) 2009-01-05 09:00:00       3       4  \n",
       "33  POINT (31.94203 -25.12829) 2009-01-05 10:00:00       3       7  \n",
       "34  POINT (31.95537 -25.13250) 2009-01-05 12:00:00       3      19  \n",
       "35  POINT (31.94971 -25.11995) 2009-01-05 16:30:00       3       8  \n",
       "36  POINT (31.95541 -25.11703) 2009-01-05 21:30:00       3      14  \n",
       "37  POINT (31.94971 -25.11995) 2009-01-06 02:30:00       3       8  \n",
       "38  POINT (31.93146 -25.12591) 2009-01-06 08:30:00       3       4  \n",
       "39  POINT (31.94203 -25.12829) 2009-01-06 09:30:00       3       7  \n",
       "40  POINT (31.96432 -25.11862) 2009-01-06 18:00:00       3       5  \n",
       "41  POINT (31.95537 -25.13250) 2009-01-07 02:30:00       3      19  \n",
       "42  POINT (31.93146 -25.12591) 2009-01-07 06:00:00       3       4  \n",
       "43  POINT (31.93785 -25.11833) 2009-01-07 09:00:00       3      13  \n",
       "44  POINT (31.96432 -25.11862) 2009-01-07 18:00:00       3       5  \n",
       "45  POINT (31.94203 -25.12829) 2009-01-07 19:00:00       3       7  \n",
       "46  POINT (31.93146 -25.12591) 2009-01-08 04:00:00       3       4  \n",
       "47  POINT (31.95541 -25.11703) 2009-01-08 19:30:00       3      14  \n",
       "48  POINT (31.94971 -25.11995) 2009-01-08 21:00:00       3       8  \n",
       "49  POINT (31.94203 -25.12829) 2009-01-09 05:00:00       3       7  \n",
       "50  POINT (31.90872 -25.14517) 2009-01-09 21:30:00       6      18  \n",
       "51  POINT (31.90300 -25.11465) 2009-01-10 04:00:00       7       0  \n",
       "52  POINT (31.90158 -25.10668) 2009-01-10 10:30:00       7       3  \n",
       "53  POINT (31.91809 -25.10339) 2009-01-10 13:30:00       7      12  \n",
       "54  POINT (31.91059 -25.10749) 2009-01-10 14:30:00       7       2  \n",
       "55  POINT (31.92578 -25.09065) 2009-01-11 03:00:00       4       9  \n",
       "56  POINT (31.90300 -25.11465) 2009-01-11 12:00:00       7       0  \n",
       "57  POINT (31.92578 -25.09065) 2009-01-12 02:30:00       4       9  \n",
       "58  POINT (31.94762 -25.08298) 2009-01-12 13:00:00       5       1  \n",
       "59  POINT (31.95667 -25.04480) 2009-01-12 17:30:00       1      15  "
      ]
     },
     "execution_count": 80,
     "metadata": {},
     "output_type": "execute_result"
    }
   ],
   "source": [
    "joined"
   ]
  },
  {
   "cell_type": "code",
   "execution_count": 81,
   "id": "f504d51b",
   "metadata": {},
   "outputs": [],
   "source": [
    "# map = utils.plot_solution_on_world_map(np.array(final_series), stop_locations)\n",
    "# map.save(os.path.basename(path).replace('.csv','.html'))"
   ]
  },
  {
   "cell_type": "code",
   "execution_count": 82,
   "id": "18fee9c5",
   "metadata": {},
   "outputs": [
    {
     "name": "stderr",
     "output_type": "stream",
     "text": [
      "<ipython-input-82-83ebacd5142c>:2: UserWarning: Geometry is in a geographic CRS. Results from 'distance' are likely incorrect. Use 'GeoSeries.to_crs()' to re-project geometries to a projected CRS before this operation.\n",
      "\n",
      "  jl = joined.distance(joined.shift())\n"
     ]
    },
    {
     "data": {
      "text/plain": [
       "<seaborn.axisgrid.FacetGrid at 0x7f4a92d812d0>"
      ]
     },
     "execution_count": 82,
     "metadata": {},
     "output_type": "execute_result"
    },
    {
     "data": {
      "image/png": "[encoded data removed]",
      "text/plain": [
       "<Figure size 360x360 with 1 Axes>"
      ]
     },
     "metadata": {},
     "output_type": "display_data"
    }
   ],
   "source": [
    "# obliczenie dystansow pomiedzy kolejnymi rekordami z geometrii\n",
    "jl = joined.distance(joined.shift())\n",
    "jl = jl[~jl.isna()]\n",
    "sns.displot(jl)"
   ]
  },
  {
   "cell_type": "code",
   "execution_count": 83,
   "id": "6da8d22d",
   "metadata": {},
   "outputs": [],
   "source": [
    "#wyznaczenie rokordow przed i po\n",
    "post = joined[joined.level0 != joined.level0.shift()].iloc[1:]\n",
    "pre = joined.shift()[joined.level0 != joined.level0.shift()].iloc[1:]"
   ]
  },
  {
   "cell_type": "code",
   "execution_count": 84,
   "id": "62ecc6c8",
   "metadata": {},
   "outputs": [
    {
     "name": "stderr",
     "output_type": "stream",
     "text": [
      "<ipython-input-84-ecd0ce40fef8>:1: UserWarning: Geometry is in a geographic CRS. Results from 'distance' are likely incorrect. Use 'GeoSeries.to_crs()' to re-project geometries to a projected CRS before this operation.\n",
      "\n",
      "  jl_l0 = pre.distance(post) #obliczenie dystansow dla kontenera lvl0\n"
     ]
    },
    {
     "data": {
      "text/plain": [
       "2     0.088108\n",
       "3     0.128860\n",
       "4     0.069446\n",
       "5     0.106284\n",
       "6     0.019511\n",
       "8     0.032377\n",
       "11    0.022307\n",
       "16    0.051771\n",
       "27    0.022671\n",
       "29    0.036605\n",
       "30    0.036605\n",
       "31    0.019171\n",
       "50    0.037343\n",
       "51    0.031060\n",
       "55    0.022671\n",
       "56    0.033084\n",
       "57    0.033084\n",
       "58    0.023148\n",
       "59    0.039247\n",
       "dtype: float64"
      ]
     },
     "execution_count": 84,
     "metadata": {},
     "output_type": "execute_result"
    }
   ],
   "source": [
    "jl_l0 = pre.distance(post) #obliczenie dystansow dla kontenera lvl0\n",
    "jl_l0"
   ]
  },
  {
   "cell_type": "code",
   "execution_count": 85,
   "id": "354eb6f3",
   "metadata": {},
   "outputs": [
    {
     "name": "stderr",
     "output_type": "stream",
     "text": [
      "<ipython-input-85-14bd73656cd3>:1: UserWarning: Geometry is in a geographic CRS. Results from 'distance' are likely incorrect. Use 'GeoSeries.to_crs()' to re-project geometries to a projected CRS before this operation.\n",
      "\n",
      "  jl = joined.groupby('level0').apply(lambda x: x.distance(x.shift()))\n"
     ]
    },
    {
     "data": {
      "text/plain": [
       "level0    \n",
       "1       8          NaN\n",
       "        9     0.016950\n",
       "        10    0.016950\n",
       "        59    0.016950\n",
       "2       2          NaN\n",
       "3       5          NaN\n",
       "        31    0.026475\n",
       "        32    0.009916\n",
       "        33    0.010839\n",
       "        34    0.013979\n",
       "        35    0.013766\n",
       "        36    0.006403\n",
       "        37    0.006403\n",
       "        38    0.019201\n",
       "        39    0.010839\n",
       "        40    0.024298\n",
       "        41    0.016516\n",
       "        42    0.024796\n",
       "        43    0.009916\n",
       "        44    0.026475\n",
       "        45    0.024298\n",
       "        46    0.010839\n",
       "        47    0.025546\n",
       "        48    0.006403\n",
       "        49    0.011341\n",
       "4       27         NaN\n",
       "        28    0.014415\n",
       "        30    0.000000\n",
       "        55    0.014415\n",
       "        57    0.000000\n",
       "5       6          NaN\n",
       "        7     0.009328\n",
       "        11    0.012126\n",
       "        12    0.012126\n",
       "        13    0.009328\n",
       "        14    0.009328\n",
       "        15    0.012126\n",
       "        58    0.000000\n",
       "6       3          NaN\n",
       "        50    0.021155\n",
       "7       0          NaN\n",
       "        1     0.028786\n",
       "        16    0.021367\n",
       "        17    0.008095\n",
       "        18    0.010436\n",
       "        19    0.009044\n",
       "        20    0.009044\n",
       "        21    0.008549\n",
       "        22    0.008549\n",
       "        23    0.008549\n",
       "        24    0.008549\n",
       "        25    0.010436\n",
       "        26    0.010436\n",
       "        29    0.009044\n",
       "        51    0.008095\n",
       "        52    0.008095\n",
       "        53    0.016833\n",
       "        54    0.008549\n",
       "        56    0.010436\n",
       "8       4          NaN\n",
       "dtype: float64"
      ]
     },
     "execution_count": 85,
     "metadata": {},
     "output_type": "execute_result"
    }
   ],
   "source": [
    "jl = joined.groupby('level0').apply(lambda x: x.distance(x.shift()))\n",
    "jl"
   ]
  },
  {
   "cell_type": "code",
   "execution_count": 86,
   "id": "4c41dbc8",
   "metadata": {},
   "outputs": [
    {
     "data": {
      "text/plain": [
       "level0    \n",
       "1       9     0.016950\n",
       "        10    0.016950\n",
       "        59    0.016950\n",
       "3       31    0.026475\n",
       "        32    0.009916\n",
       "        33    0.010839\n",
       "        34    0.013979\n",
       "        35    0.013766\n",
       "        36    0.006403\n",
       "        37    0.006403\n",
       "        38    0.019201\n",
       "        39    0.010839\n",
       "        40    0.024298\n",
       "        41    0.016516\n",
       "        42    0.024796\n",
       "        43    0.009916\n",
       "        44    0.026475\n",
       "        45    0.024298\n",
       "        46    0.010839\n",
       "        47    0.025546\n",
       "        48    0.006403\n",
       "        49    0.011341\n",
       "4       28    0.014415\n",
       "        30    0.000000\n",
       "        55    0.014415\n",
       "        57    0.000000\n",
       "5       7     0.009328\n",
       "        11    0.012126\n",
       "        12    0.012126\n",
       "        13    0.009328\n",
       "        14    0.009328\n",
       "        15    0.012126\n",
       "        58    0.000000\n",
       "6       50    0.021155\n",
       "7       1     0.028786\n",
       "        16    0.021367\n",
       "        17    0.008095\n",
       "        18    0.010436\n",
       "        19    0.009044\n",
       "        20    0.009044\n",
       "        21    0.008549\n",
       "        22    0.008549\n",
       "        23    0.008549\n",
       "        24    0.008549\n",
       "        25    0.010436\n",
       "        26    0.010436\n",
       "        29    0.009044\n",
       "        51    0.008095\n",
       "        52    0.008095\n",
       "        53    0.016833\n",
       "        54    0.008549\n",
       "        56    0.010436\n",
       "dtype: float64"
      ]
     },
     "execution_count": 86,
     "metadata": {},
     "output_type": "execute_result"
    }
   ],
   "source": [
    "jl = jl[~jl.isna()]\n",
    "jl"
   ]
  },
  {
   "cell_type": "code",
   "execution_count": 87,
   "id": "76a754aa",
   "metadata": {},
   "outputs": [
    {
     "data": {
      "text/plain": [
       "(array([6., 8., 1., 0., 1., 0., 1., 1., 0., 1.]),\n",
       " array([0.01917078, 0.0301397 , 0.04110861, 0.05207753, 0.06304645,\n",
       "        0.07401536, 0.08498428, 0.0959532 , 0.10692211, 0.11789103,\n",
       "        0.12885995]),\n",
       " <BarContainer object of 10 artists>)"
      ]
     },
     "execution_count": 87,
     "metadata": {},
     "output_type": "execute_result"
    },
    {
     "data": {
      "image/png": "[encoded data removed]",
      "text/plain": [
       "<Figure size 432x288 with 1 Axes>"
      ]
     },
     "metadata": {},
     "output_type": "display_data"
    }
   ],
   "source": [
    "\n",
    "plt.figure()\n",
    "plt.hist(jl.loc[1].values)\n",
    "plt.hist(jl.loc[3].values)\n",
    "plt.hist(jl.loc[4].values)\n",
    "plt.hist(jl.loc[5].values)\n",
    "plt.hist(jl.loc[6].values)\n",
    "plt.hist(jl.loc[7].values)\n",
    "plt.hist(jl_l0.values)"
   ]
  },
  {
   "cell_type": "code",
   "execution_count": 107,
   "id": "1e3eaaad",
   "metadata": {},
   "outputs": [
    {
     "data": {
      "text/plain": [
       "(array([8., 3., 2., 3., 1., 0., 2., 0., 0., 1.]),\n",
       " array([ 1800.,  5760.,  9720., 13680., 17640., 21600., 25560., 29520.,\n",
       "        33480., 37440., 41400.]),\n",
       " <BarContainer object of 10 artists>)"
      ]
     },
     "execution_count": 107,
     "metadata": {},
     "output_type": "execute_result"
    },
    {
     "data": {
      "image/png": "[encoded data removed]",
      "text/plain": [
       "<Figure size 432x288 with 1 Axes>"
      ]
     },
     "metadata": {},
     "output_type": "display_data"
    }
   ],
   "source": [
    "to = joined[\n",
    "    joined.labels != joined.labels.shift(-1)]\n",
    "to['covered'] = (to.end - to.start).dt.total_seconds()\n",
    "plt.figure()\n",
    "plt.hist(to.covered[to.level0 == 1].values,color='black')\n",
    "plt.hist(to.covered[to.level0 == 3].values,color='red')\n"
   ]
  },
  {
   "cell_type": "code",
   "execution_count": 89,
   "id": "940b00c9",
   "metadata": {},
   "outputs": [],
   "source": [
    "import matplotlib.pyplot as plt\n",
    "from mpl_toolkits.mplot3d import Axes3D\n",
    "import numpy as np\n",
    "from matplotlib.colors import ListedColormap\n",
    "import plotly.graph_objects as go"
   ]
  },
  {
   "cell_type": "code",
   "execution_count": 90,
   "id": "d94900f5",
   "metadata": {},
   "outputs": [
    {
     "data": {
      "image/png": "[encoded data removed]",
      "text/plain": [
       "<Figure size 432x432 with 1 Axes>"
      ]
     },
     "metadata": {},
     "output_type": "display_data"
    }
   ],
   "source": [
    "# axes instance\n",
    "fig = plt.figure(figsize=(6,6))\n",
    "ax = Axes3D(fig, auto_add_to_figure=False)\n",
    "fig.add_axes(ax)\n",
    "cmap = ListedColormap(sns.color_palette(\"husl\", 256).as_hex())\n",
    "\n",
    "x = joined.lat\n",
    "y = joined.lon\n",
    "z = (pd.to_datetime(joined.datetime) - pd.Timestamp(\"1970-01-01\")) // pd.Timedelta('1s')\n",
    "\n",
    "sc = ax.scatter(x, y, z, s=40, c=joined.labels, marker='o', cmap=cmap, alpha=1)\n",
    "ax.set_xlabel('X Label')\n",
    "ax.set_ylabel('Y Label')\n",
    "ax.set_zlabel('Z Label')\n",
    "ax.view_init(elev=30, azim=30)\n"
   ]
  },
  {
   "cell_type": "code",
   "execution_count": 91,
   "id": "90f378db",
   "metadata": {},
   "outputs": [
    {
     "data": {
      "application/vnd.plotly.v1+json": {
       "config": {
        "plotlyServerURL": "https://plot.ly"
       },
       "data": [
        {
         "line": {
          "color": "blue",
          "width": 2
         },
         "marker": {
          "color": [
           22,
           20,
           23,
           17,
           16,
           5,
           21,
           10,
           11,
           15,
           11,
           1,
           10,
           21,
           10,
           1,
           3,
           0,
           2,
           3,
           2,
           12,
           2,
           12,
           2,
           0,
           2,
           9,
           6,
           3,
           6,
           13,
           4,
           7,
           19,
           8,
           14,
           8,
           4,
           7,
           5,
           19,
           4,
           13,
           5,
           7,
           4,
           14,
           8,
           7,
           18,
           0,
           3,
           12,
           2,
           9,
           0,
           9,
           1,
           15
          ],
          "colorscale": [
           [
            0,
            "#440154"
           ],
           [
            0.1111111111111111,
            "#482878"
           ],
           [
            0.2222222222222222,
            "#3e4989"
           ],
           [
            0.3333333333333333,
            "#31688e"
           ],
           [
            0.4444444444444444,
            "#26828e"
           ],
           [
            0.5555555555555556,
            "#1f9e89"
           ],
           [
            0.6666666666666666,
            "#35b779"
           ],
           [
            0.7777777777777778,
            "#6ece58"
           ],
           [
            0.8888888888888888,
            "#b5de2b"
           ],
           [
            1,
            "#fde725"
           ]
          ],
          "size": 8
         },
         "mode": "markers+lines",
         "type": "scatter3d",
         "x": [
          0.01665995790279138,
          0.0166788087555408,
          0.016620485165711314,
          0.016704939044283294,
          0.016742982288050694,
          0.016673271216350472,
          0.016660564764867804,
          0.01665676955185175,
          0.01663527851312607,
          0.01662426853823282,
          0.01663527851312607,
          0.016649616896551308,
          0.01665676955185175,
          0.016660564764867804,
          0.01665676955185175,
          0.016649616896551308,
          0.016665342121986643,
          0.016670633226663175,
          0.016665881809465283,
          0.016665342121986643,
          0.016665881809465283,
          0.016663159264806975,
          0.016665881809465283,
          0.016663159264806975,
          0.016665881809465283,
          0.016670633226663175,
          0.016665881809465283,
          0.01665470745633537,
          0.01666035747544258,
          0.016665342121986643,
          0.01666035747544258,
          0.016673079318666652,
          0.016678111944882973,
          0.016679691975162718,
          0.01668248180902594,
          0.016674150851377086,
          0.016672217943865024,
          0.016674150851377086,
          0.016678111944882973,
          0.016679691975162718,
          0.016673271216350472,
          0.01668248180902594,
          0.016678111944882973,
          0.016673079318666652,
          0.016673271216350472,
          0.016679691975162718,
          0.016678111944882973,
          0.016672217943865024,
          0.016674150851377086,
          0.016679691975162718,
          0.01669089647377634,
          0.016670633226663175,
          0.016665342121986643,
          0.016663159264806975,
          0.016665881809465283,
          0.01665470745633537,
          0.016670633226663175,
          0.01665470745633537,
          0.016649616896551308,
          0.01662426853823282
         ],
         "y": [
          0.016644978835688308,
          0.01664743240831095,
          0.016644024206659083,
          0.016654683133544065,
          0.016675151933909036,
          0.016683679584877164,
          0.016681709152893135,
          0.016677862540353618,
          0.016677865405388268,
          0.01667968713057805,
          0.016677865405388268,
          0.01667495949015154,
          0.016677862540353618,
          0.016681709152893135,
          0.016677862540353618,
          0.01667495949015154,
          0.01665093272754427,
          0.016651670115462255,
          0.016655634036374788,
          0.01665093272754427,
          0.016655634036374788,
          0.016659549201056112,
          0.016655634036374788,
          0.016659549201056112,
          0.016655634036374788,
          0.016651670115462255,
          0.016655634036374788,
          0.016663559961533556,
          0.01666963197255548,
          0.01665093272754427,
          0.01666963197255548,
          0.016669862002013484,
          0.0166665265240335,
          0.016672045582247448,
          0.016679004055591473,
          0.01667605229232244,
          0.016679028694555727,
          0.01667605229232244,
          0.0166665265240335,
          0.016672045582247448,
          0.016683679584877164,
          0.016679004055591473,
          0.0166665265240335,
          0.016669862002013484,
          0.016683679584877164,
          0.016672045582247448,
          0.0166665265240335,
          0.016679028694555727,
          0.01667605229232244,
          0.016672045582247448,
          0.0166546594284554,
          0.016651670115462255,
          0.01665093272754427,
          0.016659549201056112,
          0.016655634036374788,
          0.016663559961533556,
          0.016651670115462255,
          0.016663559961533556,
          0.01667495949015154,
          0.01667968713057805
         ],
         "z": [
          0.016653123245369914,
          0.016653805593616688,
          0.016654877855147333,
          0.016657217334850555,
          0.01665804590057878,
          0.016659605553714263,
          0.016659751771195715,
          0.016659849249516683,
          0.01666011731489934,
          0.01666036101070176,
          0.016660750923985633,
          0.0166611408372695,
          0.016661896294257003,
          0.016661969402997728,
          0.016662042511738452,
          0.016663066846427956,
          0.01666328536033079,
          0.016663504686552966,
          0.01666365090403442,
          0.016664528208923127,
          0.016664576948083612,
          0.01666467442640458,
          0.016664893752626756,
          0.01666503997010821,
          0.016665137448429176,
          0.016665722318354982,
          0.016665844978575532,
          0.01666594164457716,
          0.016666258449120303,
          0.016666940797367077,
          0.01666711138442877,
          0.016667793732675542,
          0.016668061798058204,
          0.01666811053721869,
          0.016668208015539657,
          0.016668427341761834,
          0.016668671037564253,
          0.016668914733366673,
          0.016669207168329574,
          0.01666925590749006,
          0.01666967019035417,
          0.016670084473218282,
          0.016670255060279977,
          0.016670401277761426,
          0.016670839930205784,
          0.016670888669366266,
          0.01667132732181062,
          0.01667208277879812,
          0.016672155887538846,
          0.016672545800822714,
          0.016673349996970697,
          0.016673666801513845,
          0.01667398360605699,
          0.016674129823538438,
          0.016674178562698923,
          0.016674787802204973,
          0.016675226454649326,
          0.016675933172476343,
          0.01667644493366142,
          0.016676664259883598
         ]
        }
       ],
       "layout": {
        "scene": {
         "xaxis": {
          "title": {
           "text": "X Axis"
          }
         },
         "yaxis": {
          "title": {
           "text": "Y Axis"
          }
         },
         "zaxis": {
          "title": {
           "text": "Time"
          }
         }
        },
        "template": {
         "data": {
          "bar": [
           {
            "error_x": {
             "color": "#2a3f5f"
            },
            "error_y": {
             "color": "#2a3f5f"
            },
            "marker": {
             "line": {
              "color": "#E5ECF6",
              "width": 0.5
             },
             "pattern": {
              "fillmode": "overlay",
              "size": 10,
              "solidity": 0.2
             }
            },
            "type": "bar"
           }
          ],
          "barpolar": [
           {
            "marker": {
             "line": {
              "color": "#E5ECF6",
              "width": 0.5
             },
             "pattern": {
              "fillmode": "overlay",
              "size": 10,
              "solidity": 0.2
             }
            },
            "type": "barpolar"
           }
          ],
          "carpet": [
           {
            "aaxis": {
             "endlinecolor": "#2a3f5f",
             "gridcolor": "white",
             "linecolor": "white",
             "minorgridcolor": "white",
             "startlinecolor": "#2a3f5f"
            },
            "baxis": {
             "endlinecolor": "#2a3f5f",
             "gridcolor": "white",
             "linecolor": "white",
             "minorgridcolor": "white",
             "startlinecolor": "#2a3f5f"
            },
            "type": "carpet"
           }
          ],
          "choropleth": [
           {
            "colorbar": {
             "outlinewidth": 0,
             "ticks": ""
            },
            "type": "choropleth"
           }
          ],
          "contour": [
           {
            "colorbar": {
             "outlinewidth": 0,
             "ticks": ""
            },
            "colorscale": [
             [
              0,
              "#0d0887"
             ],
             [
              0.1111111111111111,
              "#46039f"
             ],
             [
              0.2222222222222222,
              "#7201a8"
             ],
             [
              0.3333333333333333,
              "#9c179e"
             ],
             [
              0.4444444444444444,
              "#bd3786"
             ],
             [
              0.5555555555555556,
              "#d8576b"
             ],
             [
              0.6666666666666666,
              "#ed7953"
             ],
             [
              0.7777777777777778,
              "#fb9f3a"
             ],
             [
              0.8888888888888888,
              "#fdca26"
             ],
             [
              1,
              "#f0f921"
             ]
            ],
            "type": "contour"
           }
          ],
          "contourcarpet": [
           {
            "colorbar": {
             "outlinewidth": 0,
             "ticks": ""
            },
            "type": "contourcarpet"
           }
          ],
          "heatmap": [
           {
            "colorbar": {
             "outlinewidth": 0,
             "ticks": ""
            },
            "colorscale": [
             [
              0,
              "#0d0887"
             ],
             [
              0.1111111111111111,
              "#46039f"
             ],
             [
              0.2222222222222222,
              "#7201a8"
             ],
             [
              0.3333333333333333,
              "#9c179e"
             ],
             [
              0.4444444444444444,
              "#bd3786"
             ],
             [
              0.5555555555555556,
              "#d8576b"
             ],
             [
              0.6666666666666666,
              "#ed7953"
             ],
             [
              0.7777777777777778,
              "#fb9f3a"
             ],
             [
              0.8888888888888888,
              "#fdca26"
             ],
             [
              1,
              "#f0f921"
             ]
            ],
            "type": "heatmap"
           }
          ],
          "heatmapgl": [
           {
            "colorbar": {
             "outlinewidth": 0,
             "ticks": ""
            },
            "colorscale": [
             [
              0,
              "#0d0887"
             ],
             [
              0.1111111111111111,
              "#46039f"
             ],
             [
              0.2222222222222222,
              "#7201a8"
             ],
             [
              0.3333333333333333,
              "#9c179e"
             ],
             [
              0.4444444444444444,
              "#bd3786"
             ],
             [
              0.5555555555555556,
              "#d8576b"
             ],
             [
              0.6666666666666666,
              "#ed7953"
             ],
             [
              0.7777777777777778,
              "#fb9f3a"
             ],
             [
              0.8888888888888888,
              "#fdca26"
             ],
             [
              1,
              "#f0f921"
             ]
            ],
            "type": "heatmapgl"
           }
          ],
          "histogram": [
           {
            "marker": {
             "pattern": {
              "fillmode": "overlay",
              "size": 10,
              "solidity": 0.2
             }
            },
            "type": "histogram"
           }
          ],
          "histogram2d": [
           {
            "colorbar": {
             "outlinewidth": 0,
             "ticks": ""
            },
            "colorscale": [
             [
              0,
              "#0d0887"
             ],
             [
              0.1111111111111111,
              "#46039f"
             ],
             [
              0.2222222222222222,
              "#7201a8"
             ],
             [
              0.3333333333333333,
              "#9c179e"
             ],
             [
              0.4444444444444444,
              "#bd3786"
             ],
             [
              0.5555555555555556,
              "#d8576b"
             ],
             [
              0.6666666666666666,
              "#ed7953"
             ],
             [
              0.7777777777777778,
              "#fb9f3a"
             ],
             [
              0.8888888888888888,
              "#fdca26"
             ],
             [
              1,
              "#f0f921"
             ]
            ],
            "type": "histogram2d"
           }
          ],
          "histogram2dcontour": [
           {
            "colorbar": {
             "outlinewidth": 0,
             "ticks": ""
            },
            "colorscale": [
             [
              0,
              "#0d0887"
             ],
             [
              0.1111111111111111,
              "#46039f"
             ],
             [
              0.2222222222222222,
              "#7201a8"
             ],
             [
              0.3333333333333333,
              "#9c179e"
             ],
             [
              0.4444444444444444,
              "#bd3786"
             ],
             [
              0.5555555555555556,
              "#d8576b"
             ],
             [
              0.6666666666666666,
              "#ed7953"
             ],
             [
              0.7777777777777778,
              "#fb9f3a"
             ],
             [
              0.8888888888888888,
              "#fdca26"
             ],
             [
              1,
              "#f0f921"
             ]
            ],
            "type": "histogram2dcontour"
           }
          ],
          "mesh3d": [
           {
            "colorbar": {
             "outlinewidth": 0,
             "ticks": ""
            },
            "type": "mesh3d"
           }
          ],
          "parcoords": [
           {
            "line": {
             "colorbar": {
              "outlinewidth": 0,
              "ticks": ""
             }
            },
            "type": "parcoords"
           }
          ],
          "pie": [
           {
            "automargin": true,
            "type": "pie"
           }
          ],
          "scatter": [
           {
            "fillpattern": {
             "fillmode": "overlay",
             "size": 10,
             "solidity": 0.2
            },
            "type": "scatter"
           }
          ],
          "scatter3d": [
           {
            "line": {
             "colorbar": {
              "outlinewidth": 0,
              "ticks": ""
             }
            },
            "marker": {
             "colorbar": {
              "outlinewidth": 0,
              "ticks": ""
             }
            },
            "type": "scatter3d"
           }
          ],
          "scattercarpet": [
           {
            "marker": {
             "colorbar": {
              "outlinewidth": 0,
              "ticks": ""
             }
            },
            "type": "scattercarpet"
           }
          ],
          "scattergeo": [
           {
            "marker": {
             "colorbar": {
              "outlinewidth": 0,
              "ticks": ""
             }
            },
            "type": "scattergeo"
           }
          ],
          "scattergl": [
           {
            "marker": {
             "colorbar": {
              "outlinewidth": 0,
              "ticks": ""
             }
            },
            "type": "scattergl"
           }
          ],
          "scattermapbox": [
           {
            "marker": {
             "colorbar": {
              "outlinewidth": 0,
              "ticks": ""
             }
            },
            "type": "scattermapbox"
           }
          ],
          "scatterpolar": [
           {
            "marker": {
             "colorbar": {
              "outlinewidth": 0,
              "ticks": ""
             }
            },
            "type": "scatterpolar"
           }
          ],
          "scatterpolargl": [
           {
            "marker": {
             "colorbar": {
              "outlinewidth": 0,
              "ticks": ""
             }
            },
            "type": "scatterpolargl"
           }
          ],
          "scatterternary": [
           {
            "marker": {
             "colorbar": {
              "outlinewidth": 0,
              "ticks": ""
             }
            },
            "type": "scatterternary"
           }
          ],
          "surface": [
           {
            "colorbar": {
             "outlinewidth": 0,
             "ticks": ""
            },
            "colorscale": [
             [
              0,
              "#0d0887"
             ],
             [
              0.1111111111111111,
              "#46039f"
             ],
             [
              0.2222222222222222,
              "#7201a8"
             ],
             [
              0.3333333333333333,
              "#9c179e"
             ],
             [
              0.4444444444444444,
              "#bd3786"
             ],
             [
              0.5555555555555556,
              "#d8576b"
             ],
             [
              0.6666666666666666,
              "#ed7953"
             ],
             [
              0.7777777777777778,
              "#fb9f3a"
             ],
             [
              0.8888888888888888,
              "#fdca26"
             ],
             [
              1,
              "#f0f921"
             ]
            ],
            "type": "surface"
           }
          ],
          "table": [
           {
            "cells": {
             "fill": {
              "color": "#EBF0F8"
             },
             "line": {
              "color": "white"
             }
            },
            "header": {
             "fill": {
              "color": "#C8D4E3"
             },
             "line": {
              "color": "white"
             }
            },
            "type": "table"
           }
          ]
         },
         "layout": {
          "annotationdefaults": {
           "arrowcolor": "#2a3f5f",
           "arrowhead": 0,
           "arrowwidth": 1
          },
          "autotypenumbers": "strict",
          "coloraxis": {
           "colorbar": {
            "outlinewidth": 0,
            "ticks": ""
           }
          },
          "colorscale": {
           "diverging": [
            [
             0,
             "#8e0152"
            ],
            [
             0.1,
             "#c51b7d"
            ],
            [
             0.2,
             "#de77ae"
            ],
            [
             0.3,
             "#f1b6da"
            ],
            [
             0.4,
             "#fde0ef"
            ],
            [
             0.5,
             "#f7f7f7"
            ],
            [
             0.6,
             "#e6f5d0"
            ],
            [
             0.7,
             "#b8e186"
            ],
            [
             0.8,
             "#7fbc41"
            ],
            [
             0.9,
             "#4d9221"
            ],
            [
             1,
             "#276419"
            ]
           ],
           "sequential": [
            [
             0,
             "#0d0887"
            ],
            [
             0.1111111111111111,
             "#46039f"
            ],
            [
             0.2222222222222222,
             "#7201a8"
            ],
            [
             0.3333333333333333,
             "#9c179e"
            ],
            [
             0.4444444444444444,
             "#bd3786"
            ],
            [
             0.5555555555555556,
             "#d8576b"
            ],
            [
             0.6666666666666666,
             "#ed7953"
            ],
            [
             0.7777777777777778,
             "#fb9f3a"
            ],
            [
             0.8888888888888888,
             "#fdca26"
            ],
            [
             1,
             "#f0f921"
            ]
           ],
           "sequentialminus": [
            [
             0,
             "#0d0887"
            ],
            [
             0.1111111111111111,
             "#46039f"
            ],
            [
             0.2222222222222222,
             "#7201a8"
            ],
            [
             0.3333333333333333,
             "#9c179e"
            ],
            [
             0.4444444444444444,
             "#bd3786"
            ],
            [
             0.5555555555555556,
             "#d8576b"
            ],
            [
             0.6666666666666666,
             "#ed7953"
            ],
            [
             0.7777777777777778,
             "#fb9f3a"
            ],
            [
             0.8888888888888888,
             "#fdca26"
            ],
            [
             1,
             "#f0f921"
            ]
           ]
          },
          "colorway": [
           "#636efa",
           "#EF553B",
           "#00cc96",
           "#ab63fa",
           "#FFA15A",
           "#19d3f3",
           "#FF6692",
           "#B6E880",
           "#FF97FF",
           "#FECB52"
          ],
          "font": {
           "color": "#2a3f5f"
          },
          "geo": {
           "bgcolor": "white",
           "lakecolor": "white",
           "landcolor": "#E5ECF6",
           "showlakes": true,
           "showland": true,
           "subunitcolor": "white"
          },
          "hoverlabel": {
           "align": "left"
          },
          "hovermode": "closest",
          "mapbox": {
           "style": "light"
          },
          "paper_bgcolor": "white",
          "plot_bgcolor": "#E5ECF6",
          "polar": {
           "angularaxis": {
            "gridcolor": "white",
            "linecolor": "white",
            "ticks": ""
           },
           "bgcolor": "#E5ECF6",
           "radialaxis": {
            "gridcolor": "white",
            "linecolor": "white",
            "ticks": ""
           }
          },
          "scene": {
           "xaxis": {
            "backgroundcolor": "#E5ECF6",
            "gridcolor": "white",
            "gridwidth": 2,
            "linecolor": "white",
            "showbackground": true,
            "ticks": "",
            "zerolinecolor": "white"
           },
           "yaxis": {
            "backgroundcolor": "#E5ECF6",
            "gridcolor": "white",
            "gridwidth": 2,
            "linecolor": "white",
            "showbackground": true,
            "ticks": "",
            "zerolinecolor": "white"
           },
           "zaxis": {
            "backgroundcolor": "#E5ECF6",
            "gridcolor": "white",
            "gridwidth": 2,
            "linecolor": "white",
            "showbackground": true,
            "ticks": "",
            "zerolinecolor": "white"
           }
          },
          "shapedefaults": {
           "line": {
            "color": "#2a3f5f"
           }
          },
          "ternary": {
           "aaxis": {
            "gridcolor": "white",
            "linecolor": "white",
            "ticks": ""
           },
           "baxis": {
            "gridcolor": "white",
            "linecolor": "white",
            "ticks": ""
           },
           "bgcolor": "#E5ECF6",
           "caxis": {
            "gridcolor": "white",
            "linecolor": "white",
            "ticks": ""
           }
          },
          "title": {
           "x": 0.05
          },
          "xaxis": {
           "automargin": true,
           "gridcolor": "white",
           "linecolor": "white",
           "ticks": "",
           "title": {
            "standoff": 15
           },
           "zerolinecolor": "white",
           "zerolinewidth": 2
          },
          "yaxis": {
           "automargin": true,
           "gridcolor": "white",
           "linecolor": "white",
           "ticks": "",
           "title": {
            "standoff": 15
           },
           "zerolinecolor": "white",
           "zerolinewidth": 2
          }
         }
        },
        "title": {
         "text": "Interactive 3D Scatter Plot"
        }
       }
      }
     },
     "metadata": {},
     "output_type": "display_data"
    }
   ],
   "source": [
    "import plotly.graph_objects as go\n",
    "import numpy as np\n",
    "\n",
    "x = joined.lat/sum(joined.lat)\n",
    "y = joined.lon/sum(joined.lon)\n",
    "z = (pd.to_datetime(joined.datetime) - pd.Timestamp(\"1970-01-01\")) // pd.Timedelta('1s')\n",
    "z = z/sum(z)\n",
    "\n",
    "# Create 3D scatter plot\n",
    "fig = go.Figure()\n",
    "scatter = go.Scatter3d(\n",
    "    x=x,\n",
    "    y=y,\n",
    "    z=z,\n",
    "    mode='markers+lines',\n",
    "    marker=dict(size=8, color=joined.level1, colorscale='Viridis'),\n",
    "    line=dict(color='blue', width=2),\n",
    ")\n",
    "\n",
    "fig.add_trace(scatter)\n",
    "\n",
    "# Set axis labels\n",
    "fig.update_layout(scene=dict(xaxis_title='X Axis', yaxis_title='Y Axis', zaxis_title='Time'))\n",
    "\n",
    "# Set title\n",
    "fig.update_layout(title='Interactive 3D Scatter Plot')\n",
    "\n",
    "# Show the plot\n",
    "fig.show()\n"
   ]
  },
  {
   "cell_type": "code",
   "execution_count": 92,
   "id": "1d960fb6",
   "metadata": {},
   "outputs": [
    {
     "data": {
      "text/plain": [
       "<matplotlib.collections.PathCollection at 0x7f4a914c8c70>"
      ]
     },
     "execution_count": 92,
     "metadata": {},
     "output_type": "execute_result"
    },
    {
     "data": {
      "image/png": "[encoded data removed]",
      "text/plain": [
       "<Figure size 432x288 with 1 Axes>"
      ]
     },
     "metadata": {},
     "output_type": "display_data"
    }
   ],
   "source": [
    "plt.scatter(x,z)"
   ]
  },
  {
   "cell_type": "code",
   "execution_count": 93,
   "id": "8292b1bc",
   "metadata": {},
   "outputs": [],
   "source": [
    "to = joined[\n",
    "    joined.labels != joined.labels.shift(-1)]\n",
    "to['covered'] = (to.end - to.start)\n",
    "to['gap'] = (to.start.shift(-1) - to.end)"
   ]
  },
  {
   "cell_type": "code",
   "execution_count": 94,
   "id": "b45f8b80",
   "metadata": {},
   "outputs": [],
   "source": [
    "pre = to[to.level0 != to.level0.shift(-1)][:-1]\n",
    "post = to[to.level0 != to.level0.shift()][1:]"
   ]
  },
  {
   "cell_type": "code",
   "execution_count": 95,
   "id": "ae29d3f9",
   "metadata": {},
   "outputs": [
    {
     "data": {
      "text/plain": [
       "[]"
      ]
     },
     "execution_count": 95,
     "metadata": {},
     "output_type": "execute_result"
    },
    {
     "data": {
      "image/png": "[encoded data removed]",
      "text/plain": [
       "<Figure size 432x288 with 1 Axes>"
      ]
     },
     "metadata": {},
     "output_type": "display_data"
    }
   ],
   "source": [
    "plt.hist(to.gap.dt.total_seconds())\n",
    "plt.hist(pre.gap.dt.total_seconds())\n",
    "plt.loglog()"
   ]
  },
  {
   "cell_type": "code",
   "execution_count": 96,
   "id": "1bceaa1b",
   "metadata": {},
   "outputs": [
    {
     "data": {
      "text/plain": [
       "[]"
      ]
     },
     "execution_count": 96,
     "metadata": {},
     "output_type": "execute_result"
    },
    {
     "data": {
      "image/png": "[encoded data removed]",
      "text/plain": [
       "<Figure size 432x288 with 1 Axes>"
      ]
     },
     "metadata": {},
     "output_type": "display_data"
    }
   ],
   "source": [
    "plt.hist(to.covered.dt.total_seconds())\n",
    "plt.hist(post.covered.dt.total_seconds())\n",
    "plt.loglog()"
   ]
  },
  {
   "cell_type": "code",
   "execution_count": 97,
   "id": "5c1de693",
   "metadata": {},
   "outputs": [],
   "source": [
    "time_unit = '1H'  # DEFINE TEMPORAL UNIT\n",
    "time_agg = TemporalAggregator(time_unit)  # DEFINE TEMPORAL AGGREGATION ALGORITHM\n",
    "df_processed = time_agg._user_aggregate(1,joined)\n",
    "df_processed = df_processed.groupby(pd.Grouper(level=1,freq=time_unit)).agg('first')\n",
    "df_processed.labels = df_processed.labels.fillna(-1)"
   ]
  },
  {
   "cell_type": "code",
   "execution_count": 98,
   "id": "d0f5e17d",
   "metadata": {},
   "outputs": [],
   "source": [
    "onepattern = df_processed.labels"
   ]
  },
  {
   "cell_type": "code",
   "execution_count": 99,
   "id": "86be470b",
   "metadata": {},
   "outputs": [],
   "source": [
    "list_of_patterns = []\n",
    "for day, pattern in onepattern.groupby(onepattern.index.floor('d')):\n",
    "    if pattern.size != 24:\n",
    "        continue\n",
    "    list_of_patterns.append(pattern.values)"
   ]
  },
  {
   "cell_type": "code",
   "execution_count": 100,
   "id": "2910fc9e",
   "metadata": {},
   "outputs": [],
   "source": [
    "def sub_cost(Sq,Sp):\n",
    "    transitions = {}\n",
    "    for posnum in range(len(Sq)-1): #assuming Sq and Sp have the same size\n",
    "        state = Sq[posnum]\n",
    "        next_state = Sp[posnum + 1]\n",
    "        if state not in transitions.keys():\n",
    "            transitions[state] = {}\n",
    "        if next_state not in transitions[state].keys():\n",
    "            transitions[state][next_state] = 0\n",
    "        transitions[state][next_state] += 1\n",
    "    return transitions"
   ]
  },
  {
   "cell_type": "code",
   "execution_count": 101,
   "id": "779ace72",
   "metadata": {},
   "outputs": [],
   "source": [
    "import scipy\n",
    "t_matrix = np.zeros((len(list_of_patterns),len(list_of_patterns)))\n",
    "for i in range(len(list_of_patterns)):\n",
    "    for j in range(len(list_of_patterns)):\n",
    "        t_matrix[i,j] = scipy.spatial.distance.hamming(list_of_patterns[i],list_of_patterns[j])"
   ]
  },
  {
   "cell_type": "code",
   "execution_count": 102,
   "id": "df911551",
   "metadata": {},
   "outputs": [
    {
     "data": {
      "text/plain": [
       "<Axes: >"
      ]
     },
     "execution_count": 102,
     "metadata": {},
     "output_type": "execute_result"
    },
    {
     "data": {
      "image/png": "[encoded data removed]",
      "text/plain": [
       "<Figure size 864x864 with 2 Axes>"
      ]
     },
     "metadata": {},
     "output_type": "display_data"
    }
   ],
   "source": [
    "plt.figure(figsize=(12,12))\n",
    "sns.heatmap(t_matrix,cmap='Spectral')"
   ]
  },
  {
   "cell_type": "code",
   "execution_count": 103,
   "id": "8b79f6aa",
   "metadata": {},
   "outputs": [],
   "source": [
    "from sklearn.cluster import AgglomerativeClustering"
   ]
  },
  {
   "cell_type": "code",
   "execution_count": 104,
   "id": "51f0ab9c",
   "metadata": {},
   "outputs": [
    {
     "name": "stderr",
     "output_type": "stream",
     "text": [
      "/home/dteodorczyk/.conda/envs/boars3109/lib/python3.10/site-packages/sklearn/cluster/_agglomerative.py:983: FutureWarning:\n",
      "\n",
      "Attribute `affinity` was deprecated in version 1.2 and will be removed in 1.4. Use `metric` instead\n",
      "\n"
     ]
    },
    {
     "data": {
      "text/plain": [
       "array([13,  0, 17,  0, 12,  9,  8, 15, 14, 16, 11,  7, 10,  4,  6,  3,  5,\n",
       "        1,  2])"
      ]
     },
     "execution_count": 104,
     "metadata": {},
     "output_type": "execute_result"
    }
   ],
   "source": [
    "cls = AgglomerativeClustering(affinity='precomputed',linkage='average',distance_threshold=.3,n_clusters=None)\n",
    "cls_res = cls.fit_predict(t_matrix)\n",
    "cls_res"
   ]
  },
  {
   "cell_type": "code",
   "execution_count": 105,
   "id": "39aa7a5e",
   "metadata": {},
   "outputs": [
    {
     "data": {
      "text/plain": [
       "(456,)"
      ]
     },
     "execution_count": 105,
     "metadata": {},
     "output_type": "execute_result"
    }
   ],
   "source": [
    "np.repeat(cls_res,24).shape"
   ]
  },
  {
   "cell_type": "code",
   "execution_count": 110,
   "id": "55e63928",
   "metadata": {},
   "outputs": [
    {
     "data": {
      "text/plain": [
       "25.68421052631579"
      ]
     },
     "execution_count": 110,
     "metadata": {},
     "output_type": "execute_result"
    }
   ],
   "source": [
    "len(df_days)/len(cls_res)"
   ]
  },
  {
   "cell_type": "code",
   "execution_count": 106,
   "id": "913cc0e7",
   "metadata": {},
   "outputs": [
    {
     "ename": "ValueError",
     "evalue": "Length of values (456) does not match length of index (488)",
     "output_type": "error",
     "traceback": [
      "\u001b[0;31m---------------------------------------------------------------------------\u001b[0m",
      "\u001b[0;31mValueError\u001b[0m                                Traceback (most recent call last)",
      "\u001b[0;32m<ipython-input-106-1a99a0123eb3>\u001b[0m in \u001b[0;36m<cell line: 2>\u001b[0;34m()\u001b[0m\n\u001b[1;32m      1\u001b[0m \u001b[0mdf_days\u001b[0m \u001b[0;34m=\u001b[0m \u001b[0mdf_processed\u001b[0m\u001b[0;34m\u001b[0m\u001b[0;34m\u001b[0m\u001b[0m\n\u001b[0;32m----> 2\u001b[0;31m \u001b[0mdf_days\u001b[0m\u001b[0;34m[\u001b[0m\u001b[0;34m'cls'\u001b[0m\u001b[0;34m]\u001b[0m \u001b[0;34m=\u001b[0m \u001b[0mnp\u001b[0m\u001b[0;34m.\u001b[0m\u001b[0mrepeat\u001b[0m\u001b[0;34m(\u001b[0m\u001b[0mcls_res\u001b[0m\u001b[0;34m,\u001b[0m\u001b[0;36m24\u001b[0m\u001b[0;34m)\u001b[0m\u001b[0;34m\u001b[0m\u001b[0;34m\u001b[0m\u001b[0m\n\u001b[0m",
      "\u001b[0;32m~/.conda/envs/boars3109/lib/python3.10/site-packages/pandas/core/frame.py\u001b[0m in \u001b[0;36m__setitem__\u001b[0;34m(self, key, value)\u001b[0m\n\u001b[1;32m   3653\u001b[0m         \u001b[0;32melse\u001b[0m\u001b[0;34m:\u001b[0m\u001b[0;34m\u001b[0m\u001b[0;34m\u001b[0m\u001b[0m\n\u001b[1;32m   3654\u001b[0m             \u001b[0;31m# set column\u001b[0m\u001b[0;34m\u001b[0m\u001b[0;34m\u001b[0m\u001b[0m\n\u001b[0;32m-> 3655\u001b[0;31m             \u001b[0mself\u001b[0m\u001b[0;34m.\u001b[0m\u001b[0m_set_item\u001b[0m\u001b[0;34m(\u001b[0m\u001b[0mkey\u001b[0m\u001b[0;34m,\u001b[0m \u001b[0mvalue\u001b[0m\u001b[0;34m)\u001b[0m\u001b[0;34m\u001b[0m\u001b[0;34m\u001b[0m\u001b[0m\n\u001b[0m\u001b[1;32m   3656\u001b[0m \u001b[0;34m\u001b[0m\u001b[0m\n\u001b[1;32m   3657\u001b[0m     \u001b[0;32mdef\u001b[0m \u001b[0m_setitem_slice\u001b[0m\u001b[0;34m(\u001b[0m\u001b[0mself\u001b[0m\u001b[0;34m,\u001b[0m \u001b[0mkey\u001b[0m\u001b[0;34m:\u001b[0m \u001b[0mslice\u001b[0m\u001b[0;34m,\u001b[0m \u001b[0mvalue\u001b[0m\u001b[0;34m)\u001b[0m\u001b[0;34m:\u001b[0m\u001b[0;34m\u001b[0m\u001b[0;34m\u001b[0m\u001b[0m\n",
      "\u001b[0;32m~/.conda/envs/boars3109/lib/python3.10/site-packages/pandas/core/frame.py\u001b[0m in \u001b[0;36m_set_item\u001b[0;34m(self, key, value)\u001b[0m\n\u001b[1;32m   3830\u001b[0m         \u001b[0mensure\u001b[0m \u001b[0mhomogeneity\u001b[0m\u001b[0;34m.\u001b[0m\u001b[0;34m\u001b[0m\u001b[0;34m\u001b[0m\u001b[0m\n\u001b[1;32m   3831\u001b[0m         \"\"\"\n\u001b[0;32m-> 3832\u001b[0;31m         \u001b[0mvalue\u001b[0m \u001b[0;34m=\u001b[0m \u001b[0mself\u001b[0m\u001b[0;34m.\u001b[0m\u001b[0m_sanitize_column\u001b[0m\u001b[0;34m(\u001b[0m\u001b[0mvalue\u001b[0m\u001b[0;34m)\u001b[0m\u001b[0;34m\u001b[0m\u001b[0;34m\u001b[0m\u001b[0m\n\u001b[0m\u001b[1;32m   3833\u001b[0m \u001b[0;34m\u001b[0m\u001b[0m\n\u001b[1;32m   3834\u001b[0m         if (\n",
      "\u001b[0;32m~/.conda/envs/boars3109/lib/python3.10/site-packages/pandas/core/frame.py\u001b[0m in \u001b[0;36m_sanitize_column\u001b[0;34m(self, value)\u001b[0m\n\u001b[1;32m   4533\u001b[0m \u001b[0;34m\u001b[0m\u001b[0m\n\u001b[1;32m   4534\u001b[0m         \u001b[0;32mif\u001b[0m \u001b[0mis_list_like\u001b[0m\u001b[0;34m(\u001b[0m\u001b[0mvalue\u001b[0m\u001b[0;34m)\u001b[0m\u001b[0;34m:\u001b[0m\u001b[0;34m\u001b[0m\u001b[0;34m\u001b[0m\u001b[0m\n\u001b[0;32m-> 4535\u001b[0;31m             \u001b[0mcom\u001b[0m\u001b[0;34m.\u001b[0m\u001b[0mrequire_length_match\u001b[0m\u001b[0;34m(\u001b[0m\u001b[0mvalue\u001b[0m\u001b[0;34m,\u001b[0m \u001b[0mself\u001b[0m\u001b[0;34m.\u001b[0m\u001b[0mindex\u001b[0m\u001b[0;34m)\u001b[0m\u001b[0;34m\u001b[0m\u001b[0;34m\u001b[0m\u001b[0m\n\u001b[0m\u001b[1;32m   4536\u001b[0m         \u001b[0;32mreturn\u001b[0m \u001b[0msanitize_array\u001b[0m\u001b[0;34m(\u001b[0m\u001b[0mvalue\u001b[0m\u001b[0;34m,\u001b[0m \u001b[0mself\u001b[0m\u001b[0;34m.\u001b[0m\u001b[0mindex\u001b[0m\u001b[0;34m,\u001b[0m \u001b[0mcopy\u001b[0m\u001b[0;34m=\u001b[0m\u001b[0;32mTrue\u001b[0m\u001b[0;34m,\u001b[0m \u001b[0mallow_2d\u001b[0m\u001b[0;34m=\u001b[0m\u001b[0;32mTrue\u001b[0m\u001b[0;34m)\u001b[0m\u001b[0;34m\u001b[0m\u001b[0;34m\u001b[0m\u001b[0m\n\u001b[1;32m   4537\u001b[0m \u001b[0;34m\u001b[0m\u001b[0m\n",
      "\u001b[0;32m~/.conda/envs/boars3109/lib/python3.10/site-packages/pandas/core/common.py\u001b[0m in \u001b[0;36mrequire_length_match\u001b[0;34m(data, index)\u001b[0m\n\u001b[1;32m    555\u001b[0m     \"\"\"\n\u001b[1;32m    556\u001b[0m     \u001b[0;32mif\u001b[0m \u001b[0mlen\u001b[0m\u001b[0;34m(\u001b[0m\u001b[0mdata\u001b[0m\u001b[0;34m)\u001b[0m \u001b[0;34m!=\u001b[0m \u001b[0mlen\u001b[0m\u001b[0;34m(\u001b[0m\u001b[0mindex\u001b[0m\u001b[0;34m)\u001b[0m\u001b[0;34m:\u001b[0m\u001b[0;34m\u001b[0m\u001b[0;34m\u001b[0m\u001b[0m\n\u001b[0;32m--> 557\u001b[0;31m         raise ValueError(\n\u001b[0m\u001b[1;32m    558\u001b[0m             \u001b[0;34m\"Length of values \"\u001b[0m\u001b[0;34m\u001b[0m\u001b[0;34m\u001b[0m\u001b[0m\n\u001b[1;32m    559\u001b[0m             \u001b[0;34mf\"({len(data)}) \"\u001b[0m\u001b[0;34m\u001b[0m\u001b[0;34m\u001b[0m\u001b[0m\n",
      "\u001b[0;31mValueError\u001b[0m: Length of values (456) does not match length of index (488)"
     ]
    }
   ],
   "source": [
    "df_days = df_processed\n",
    "df_days['cls'] = np.repeat(cls_res,24)"
   ]
  },
  {
   "cell_type": "code",
   "execution_count": null,
   "id": "a5f4ce34",
   "metadata": {},
   "outputs": [
    {
     "ename": "NameError",
     "evalue": "name 'df_days' is not defined",
     "output_type": "error",
     "traceback": [
      "\u001b[1;31m---------------------------------------------------------------------------\u001b[0m",
      "\u001b[1;31mNameError\u001b[0m                                 Traceback (most recent call last)",
      "Input \u001b[1;32mIn [60]\u001b[0m, in \u001b[0;36m<cell line: 1>\u001b[1;34m()\u001b[0m\n\u001b[1;32m----> 1\u001b[0m df_days_compressed \u001b[38;5;241m=\u001b[39m \u001b[43mdf_days\u001b[49m\u001b[38;5;241m.\u001b[39mdrop_duplicates()\n\u001b[0;32m      2\u001b[0m df_days_compressed \u001b[38;5;241m=\u001b[39m df_days_compressed[\u001b[38;5;241m~\u001b[39mdf_days_compressed\u001b[38;5;241m.\u001b[39misna()\u001b[38;5;241m.\u001b[39many(axis\u001b[38;5;241m=\u001b[39m\u001b[38;5;241m1\u001b[39m)]\n",
      "\u001b[1;31mNameError\u001b[0m: name 'df_days' is not defined"
     ]
    }
   ],
   "source": [
    "df_days_compressed = df_days.drop_duplicates()\n",
    "df_days_compressed = df_days_compressed[~df_days_compressed.isna().any(axis=1)]"
   ]
  },
  {
   "cell_type": "code",
   "execution_count": null,
   "id": "1f5b4ebd",
   "metadata": {},
   "outputs": [
    {
     "ename": "NameError",
     "evalue": "name 'df_days_compressed' is not defined",
     "output_type": "error",
     "traceback": [
      "\u001b[1;31m---------------------------------------------------------------------------\u001b[0m",
      "\u001b[1;31mNameError\u001b[0m                                 Traceback (most recent call last)",
      "Input \u001b[1;32mIn [61]\u001b[0m, in \u001b[0;36m<cell line: 2>\u001b[1;34m()\u001b[0m\n\u001b[0;32m      1\u001b[0m cmap \u001b[38;5;241m=\u001b[39m plt\u001b[38;5;241m.\u001b[39mcm\u001b[38;5;241m.\u001b[39mviridis\n\u001b[1;32m----> 2\u001b[0m grouped \u001b[38;5;241m=\u001b[39m \u001b[43mdf_days_compressed\u001b[49m\u001b[38;5;241m.\u001b[39mgroupby(\u001b[38;5;124m'\u001b[39m\u001b[38;5;124mcls\u001b[39m\u001b[38;5;124m'\u001b[39m)\n\u001b[0;32m      3\u001b[0m \u001b[38;5;28;01mfor\u001b[39;00m clas, vals \u001b[38;5;129;01min\u001b[39;00m grouped:\n\u001b[0;32m      4\u001b[0m     res \u001b[38;5;241m=\u001b[39m vals\u001b[38;5;241m.\u001b[39mgroupby(vals\u001b[38;5;241m.\u001b[39mindex\u001b[38;5;241m.\u001b[39mfloor(\u001b[38;5;124m'\u001b[39m\u001b[38;5;124md\u001b[39m\u001b[38;5;124m'\u001b[39m))\u001b[38;5;241m.\u001b[39mapply(\u001b[38;5;28;01mlambda\u001b[39;00m x: (x\u001b[38;5;241m.\u001b[39mend \u001b[38;5;241m-\u001b[39m x\u001b[38;5;241m.\u001b[39mstart)\u001b[38;5;241m.\u001b[39mdt\u001b[38;5;241m.\u001b[39mtotal_seconds())\n",
      "\u001b[1;31mNameError\u001b[0m: name 'df_days_compressed' is not defined"
     ]
    }
   ],
   "source": [
    "cmap = plt.cm.viridis\n",
    "grouped = df_days_compressed.groupby('cls')\n",
    "for clas, vals in grouped:\n",
    "    res = vals.groupby(vals.index.floor('d')).apply(lambda x: (x.end - x.start).dt.total_seconds())\n",
    "    color = cmap(clas/len(grouped))\n",
    "    sns.kdeplot(res,color=color,label=str(clas))\n",
    "    plt.legend()\n",
    "#     plt.loglog()"
   ]
  },
  {
   "cell_type": "code",
   "execution_count": null,
   "id": "2faabccd",
   "metadata": {},
   "outputs": [
    {
     "ename": "NameError",
     "evalue": "name 'df_days_compressed' is not defined",
     "output_type": "error",
     "traceback": [
      "\u001b[1;31m---------------------------------------------------------------------------\u001b[0m",
      "\u001b[1;31mNameError\u001b[0m                                 Traceback (most recent call last)",
      "Input \u001b[1;32mIn [62]\u001b[0m, in \u001b[0;36m<cell line: 2>\u001b[1;34m()\u001b[0m\n\u001b[0;32m      1\u001b[0m cmap \u001b[38;5;241m=\u001b[39m plt\u001b[38;5;241m.\u001b[39mcm\u001b[38;5;241m.\u001b[39mviridis\n\u001b[1;32m----> 2\u001b[0m grouped \u001b[38;5;241m=\u001b[39m \u001b[43mdf_days_compressed\u001b[49m\u001b[38;5;241m.\u001b[39mgroupby(\u001b[38;5;124m'\u001b[39m\u001b[38;5;124mcls\u001b[39m\u001b[38;5;124m'\u001b[39m)\n\u001b[0;32m      3\u001b[0m \u001b[38;5;28;01mfor\u001b[39;00m clas, vals \u001b[38;5;129;01min\u001b[39;00m grouped:\n\u001b[0;32m      4\u001b[0m     vals \u001b[38;5;241m=\u001b[39m gpd\u001b[38;5;241m.\u001b[39mGeoDataFrame(vals)\n",
      "\u001b[1;31mNameError\u001b[0m: name 'df_days_compressed' is not defined"
     ]
    }
   ],
   "source": [
    "cmap = plt.cm.viridis\n",
    "grouped = df_days_compressed.groupby('cls')\n",
    "for clas, vals in grouped:\n",
    "    vals = gpd.GeoDataFrame(vals)\n",
    "    res = vals.groupby(vals.index.floor('d')).apply(lambda x: x.distance(x.shift()))\n",
    "    color = cmap(clas/len(grouped))\n",
    "    sns.kdeplot(res,color=color,label=str(clas))\n",
    "    plt.legend()\n",
    "#     plt.loglog()"
   ]
  },
  {
   "cell_type": "code",
   "execution_count": null,
   "id": "83befbb7",
   "metadata": {},
   "outputs": [
    {
     "data": {
      "image/png": "[encoded data removed]",
      "text/plain": [
       "<Figure size 640x480 with 1 Axes>"
      ]
     },
     "metadata": {},
     "output_type": "display_data"
    }
   ],
   "source": [
    "cmap = plt.cm.viridis\n",
    "grouped = df_days_compressed.groupby('cls')\n",
    "for clas, vals in grouped:\n",
    "    res = vals.groupby(vals.index.floor('d')).apply(lambda x: (x.shift(-1).start - x.end).dt.total_seconds())\n",
    "    color = cmap(clas/len(grouped))\n",
    "    sns.kdeplot(res,color=color,label=str(clas))\n",
    "    plt.legend()\n",
    "#     plt.loglog()"
   ]
  },
  {
   "cell_type": "code",
   "execution_count": null,
   "id": "752c1a93",
   "metadata": {},
   "outputs": [
    {
     "data": {
      "text/plain": [
       "(array([0, 1, 2, 3], dtype=int64), array([ 13, 113,   3,  19], dtype=int64))"
      ]
     },
     "execution_count": 461,
     "metadata": {},
     "output_type": "execute_result"
    }
   ],
   "source": [
    "np.unique(cls_res,return_counts=True)"
   ]
  },
  {
   "cell_type": "code",
   "execution_count": null,
   "id": "d99193f8",
   "metadata": {},
   "outputs": [],
   "source": []
  }
 ],
 "metadata": {
  "kernelspec": {
   "display_name": "Python 3 (ipykernel)",
   "language": "python",
   "name": "python3"
  },
  "language_info": {
   "codemirror_mode": {
    "name": "ipython",
    "version": 3
   },
   "file_extension": ".py",
   "mimetype": "text/x-python",
   "name": "python",
   "nbconvert_exporter": "python",
   "pygments_lexer": "ipython3",
   "version": "3.10.9"
  }
 },
 "nbformat": 4,
 "nbformat_minor": 5
}
